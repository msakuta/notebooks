{
 "cells": [
  {
   "cell_type": "markdown",
   "metadata": {},
   "source": [
    "# LSTM Learning with TensorFlow\n",
    "\n",
    "We will demonstrate fitting a recurrent neural network to a text file.\n",
    "\n",
    "Based on https://github.com/skyer9/hello_lstm, ported to Jupyter notebook."
   ]
  },
  {
   "cell_type": "code",
   "execution_count": 1,
   "metadata": {
    "collapsed": true
   },
   "outputs": [],
   "source": [
    "%matplotlib inline\n",
    "import matplotlib.pyplot as plt\n",
    "import tensorflow as tf\n",
    "from tensorflow.contrib.rnn import BasicLSTMCell, GRUCell\n",
    "from tensorflow.contrib.layers import fully_connected\n",
    "from tensorflow.contrib.seq2seq import sequence_loss\n",
    "\n",
    "import numpy as np"
   ]
  },
  {
   "cell_type": "code",
   "execution_count": 2,
   "metadata": {
    "collapsed": true
   },
   "outputs": [],
   "source": [
    "#X_train = \"Hello, World!\"\n",
    "# X_train = \"안녕하세요, World!\"\n",
    "X_train = (\"if you want to build a ship, don't drum up people together to \"\n",
    "           \"collect wood and don't assign them tasks and work, but rather \"\n",
    "           \"teach them to long for the endless immensity of the sea.\")\n",
    "\n",
    "#nb_epoches = 25\n",
    "nb_epoches = 100\n",
    "batch_size = 10\n",
    "num_steps = 200 # Length of gradient unchaining"
   ]
  },
  {
   "cell_type": "code",
   "execution_count": 3,
   "metadata": {},
   "outputs": [
    {
     "name": "stdout",
     "output_type": "stream",
     "text": [
      "84019\n"
     ]
    }
   ],
   "source": [
    "with open(r'd:\\projects\\gltestplus\\src\\gltestplus.cpp', encoding='utf-8') as f:\n",
    "    text = f.read()\n",
    "    #text = f.readlines()\n",
    "\n",
    "X_train = text#[:1000].replace('\\r', '').replace('\\n', '')\n",
    "print(len(X_train))"
   ]
  },
  {
   "cell_type": "code",
   "execution_count": 4,
   "metadata": {
    "collapsed": true
   },
   "outputs": [],
   "source": [
    "def create_vocabulary(sequence):\n",
    "    vocab = {}\n",
    "    for i in range(len(sequence)):\n",
    "        ch = sequence[i]\n",
    "        if ch in vocab:\n",
    "            vocab[ch] += 1\n",
    "        else:\n",
    "            vocab[ch] = 1\n",
    "    vocab_rev = sorted(vocab, key=vocab.get, reverse=True)\n",
    "    vocab = dict([(x, y) for (y, x) in enumerate(vocab_rev)])\n",
    "    return vocab, vocab_rev\n",
    "\n",
    "\n",
    "def sentence_to_token_ids(sentence, vocabulary):\n",
    "    characters = [sentence[i:i+1] for i in range(0, len(sentence), 1)]\n",
    "    return [vocabulary.get(w) for w in characters]\n",
    "\n",
    "\n",
    "def token_ids_to_one_hot(token_ids, num_classes=10):\n",
    "    token_ids_one_hot = np.zeros((len(token_ids), num_classes))\n",
    "    token_ids_one_hot[np.arange(len(token_ids)), token_ids] = 1\n",
    "    return token_ids_one_hot\n",
    "\n"
   ]
  },
  {
   "cell_type": "code",
   "execution_count": 5,
   "metadata": {
    "collapsed": true
   },
   "outputs": [],
   "source": [
    "sequence_length = len(X_train) - 1\n",
    "\n",
    "X_train_vocab, X_train_vocab_rev = create_vocabulary(X_train)\n",
    "hidden_size = len(X_train_vocab)\n",
    "num_classes = len(X_train_vocab)\n",
    "\n",
    "X_train_ids = sentence_to_token_ids(X_train, X_train_vocab)\n",
    "X_data = X_train_ids[:-1]\n",
    "Y_data = X_train_ids[1:]\n",
    "X_data_one_hot = [token_ids_to_one_hot(X_data, num_classes)]\n",
    "Y_data = [Y_data]\n",
    "\n"
   ]
  },
  {
   "cell_type": "code",
   "execution_count": 6,
   "metadata": {
    "scrolled": false
   },
   "outputs": [
    {
     "name": "stdout",
     "output_type": "stream",
     "text": [
      "<tensorflow.python.ops.rnn_cell_impl.GRUCell object at 0x0000027B11CF0978>\n"
     ]
    }
   ],
   "source": [
    "used = False\n",
    "\n",
    "with tf.name_scope('input_X'):\n",
    "    X = tf.placeholder(tf.float32, [None, num_steps, hidden_size], name='X')\n",
    "\n",
    "with tf.name_scope('output_Y'):\n",
    "    Y = tf.placeholder(tf.int32, [None, num_steps], name='Y')\n",
    "\n",
    "with tf.name_scope('lstm'):\n",
    "    #cell = BasicLSTMCell(num_units=hidden_size)\n",
    "    cell = GRUCell(num_units=hidden_size)\n",
    "    initial_state = cell.zero_state(batch_size, tf.float32)\n",
    "    outputs, _states = tf.nn.dynamic_rnn(cell,\n",
    "                                         X,\n",
    "                                         initial_state=initial_state,\n",
    "                                         dtype=tf.float32)\n",
    "    tf.summary.histogram('rnn_outputs', outputs)\n",
    "\n",
    "    X_for_fc = tf.reshape(outputs, [-1, hidden_size])\n",
    "    outputs = fully_connected(inputs=X_for_fc,\n",
    "                              num_outputs=num_classes,\n",
    "                              activation_fn=None)\n",
    "\n",
    "    outputs = tf.reshape(outputs, [batch_size, num_steps, num_classes])\n",
    "    tf.summary.histogram('outputs', outputs)\n",
    "\n",
    "    weights = tf.ones([batch_size, num_steps])\n",
    "    tf.summary.histogram('weights', weights)\n",
    "with tf.name_scope('sequence_loss'):\n",
    "    sloss = sequence_loss(logits=outputs,\n",
    "                                  targets=Y,\n",
    "                                  weights=weights)\n",
    "    tf.summary.scalar('sequence_loss', sloss)\n",
    "with tf.name_scope('loss'):\n",
    "    loss = tf.reduce_mean(sloss)\n",
    "    tf.summary.scalar('loss', loss)\n",
    "with tf.name_scope('train'):\n",
    "    train = tf.train.AdamOptimizer(learning_rate=0.1).minimize(loss)\n",
    "\n",
    "with tf.name_scope('prediction'):\n",
    "    prediction = tf.argmax(outputs, axis=2)\n",
    "    \n",
    "used = True\n",
    "print(cell)"
   ]
  },
  {
   "cell_type": "code",
   "execution_count": 7,
   "metadata": {},
   "outputs": [
    {
     "name": "stdout",
     "output_type": "stream",
     "text": [
      "(84018, 94) 84018 Tensor(\"output_Y/Y:0\", shape=(?, 200), dtype=int32)\n"
     ]
    }
   ],
   "source": [
    "print(X_data_one_hot[0].shape, len(Y_data[0]), Y)"
   ]
  },
  {
   "cell_type": "code",
   "execution_count": 11,
   "metadata": {
    "collapsed": true
   },
   "outputs": [],
   "source": [
    "GRUCell?"
   ]
  },
  {
   "cell_type": "code",
   "execution_count": 10,
   "metadata": {
    "collapsed": true
   },
   "outputs": [],
   "source": [
    "tf.strided_slice?"
   ]
  },
  {
   "cell_type": "code",
   "execution_count": 15,
   "metadata": {
    "collapsed": true
   },
   "outputs": [],
   "source": [
    "tf.nn.dynamic_rnn?"
   ]
  },
  {
   "cell_type": "code",
   "execution_count": 19,
   "metadata": {
    "collapsed": true
   },
   "outputs": [],
   "source": [
    "tf.nn.l2_loss?"
   ]
  },
  {
   "cell_type": "code",
   "execution_count": 8,
   "metadata": {},
   "outputs": [
    {
     "data": {
      "text/plain": [
       "[<tf.Variable 'rnn/gru_cell/gates/kernel:0' shape=(188, 188) dtype=float32_ref>,\n",
       " <tf.Variable 'rnn/gru_cell/gates/bias:0' shape=(188,) dtype=float32_ref>,\n",
       " <tf.Variable 'rnn/gru_cell/candidate/kernel:0' shape=(188, 94) dtype=float32_ref>,\n",
       " <tf.Variable 'rnn/gru_cell/candidate/bias:0' shape=(94,) dtype=float32_ref>,\n",
       " <tf.Variable 'fully_connected/weights:0' shape=(94, 94) dtype=float32_ref>,\n",
       " <tf.Variable 'fully_connected/biases:0' shape=(94,) dtype=float32_ref>]"
      ]
     },
     "execution_count": 8,
     "metadata": {},
     "output_type": "execute_result"
    }
   ],
   "source": [
    "tf.trainable_variables()"
   ]
  },
  {
   "cell_type": "code",
   "execution_count": 10,
   "metadata": {
    "collapsed": true
   },
   "outputs": [],
   "source": [
    "sequence_loss?"
   ]
  },
  {
   "cell_type": "code",
   "execution_count": 9,
   "metadata": {
    "collapsed": true
   },
   "outputs": [],
   "source": [
    "sess = tf.Session(config=tf.ConfigProto(log_device_placement=True))"
   ]
  },
  {
   "cell_type": "code",
   "execution_count": 10,
   "metadata": {
    "collapsed": true
   },
   "outputs": [],
   "source": [
    "def rnn_minibatch_sequencer(raw_data, batch_size, sequence_size, nb_epochs):\n",
    "    \"\"\"\n",
    "    Divides the data into batches of sequences so that all the sequences in one batch\n",
    "    continue in the next batch. This is a generator that will keep returning batches\n",
    "    until the input data has been seen nb_epochs times. Sequences are continued even\n",
    "    between epochs, apart from one, the one corresponding to the end of raw_data.\n",
    "    The remainder at the end of raw_data that does not fit in an full batch is ignored.\n",
    "    :param raw_data: the training text\n",
    "    :param batch_size: the size of a training minibatch\n",
    "    :param sequence_size: the unroll size of the RNN\n",
    "    :param nb_epochs: number of epochs to train on\n",
    "    :return:\n",
    "        x: one batch of training sequences\n",
    "        y: on batch of target sequences, i.e. training sequences shifted by 1\n",
    "        epoch: the current epoch number (starting at 0)\n",
    "    \"\"\"\n",
    "    data = np.array(raw_data)\n",
    "    data_len = data.shape[0]\n",
    "    # using (data_len-1) because we must provide for the sequence shifted by 1 too\n",
    "    nb_batches = (data_len - 1) // (batch_size * sequence_size)\n",
    "    assert nb_batches > 0, \"Not enough data, even for a single batch. Try using a smaller batch_size.\"\n",
    "    rounded_data_len = nb_batches * batch_size * sequence_size\n",
    "    xdata = np.reshape(data[0:rounded_data_len], [batch_size, nb_batches * sequence_size])\n",
    "    ydata = np.reshape(data[1:rounded_data_len + 1], [batch_size, nb_batches * sequence_size])\n",
    "\n",
    "    for epoch in range(nb_epochs):\n",
    "        for batch in range(nb_batches):\n",
    "            x = xdata[:, batch * sequence_size:(batch + 1) * sequence_size]\n",
    "            y = ydata[:, batch * sequence_size:(batch + 1) * sequence_size]\n",
    "            x = np.roll(x, -epoch, axis=0)  # to continue the text from epoch to epoch (do not reset rnn state!)\n",
    "            y = np.roll(y, -epoch, axis=0)\n",
    "            yield x, y, epoch, batch, nb_batches\n"
   ]
  },
  {
   "cell_type": "code",
   "execution_count": 10,
   "metadata": {
    "collapsed": true
   },
   "outputs": [],
   "source": [
    "fileWriter = tf.summary.FileWriter('TensorFlowLSTM/16')\n",
    "fileWriter.add_graph(sess.graph)"
   ]
  },
  {
   "cell_type": "code",
   "execution_count": 11,
   "metadata": {
    "collapsed": true
   },
   "outputs": [],
   "source": [
    "merged_summary = tf.summary.merge_all()"
   ]
  },
  {
   "cell_type": "code",
   "execution_count": null,
   "metadata": {
    "collapsed": true
   },
   "outputs": [],
   "source": [
    "# Initialize the training variables\n",
    "sess.run(tf.global_variables_initializer())\n",
    "printed_epoch = 0\n",
    "printed_percentage = -1\n",
    "losses_in_batches = []"
   ]
  },
  {
   "cell_type": "code",
   "execution_count": 15,
   "metadata": {
    "scrolled": false
   },
   "outputs": [
    {
     "name": "stdout",
     "output_type": "stream",
     "text": [
      "0====10===20===30===40===50====60===70===80===90===1 loss: 4.78812\n",
      "0\tPrediction str:  \t\tree\tre \te \te r' re \te  e  e re  e  '\tr'  ' \t\t  e re r'er'e ' 'e e' re ee  e r' r'er'  ' '' ee  e  e  e re  e  e  e  e ee ee  \t  \t ee  e  e    e e eee ''e ee r' 'e' e ee 'eleee e  e  e ee/ e  e  e  e\n",
      "====10===20===30===40===50====60===70===80===90===2 loss: 3.97392\n",
      "0\tPrediction str:  l   l  \tl  c  eee\n",
      "ee eeeeeee ee ee eee ee>e >   eeeeeee eeeee eee eeeee ee\t\t\t\teeeee ee ee eeeeeeee e e\n",
      "\t\t\t\teeeeee \n",
      "ee eeeeeeeeee eeeeeeeeeeee>eeeeeeeeeeeeeeeeeeeeeeeeeeeee\t\t\t\t/\teee eeeeeee\tee\teee eee\n",
      "\n",
      "====10===20===30===40===50====60===70===80===90===3 loss: 3.79859\n",
      "0\tPrediction str:  titet>/ eee ee e  e        \te\t  eeeeee    \t\t eeeeee\n",
      "eeeeeeeeeeeee\t\teeeeeeee/e eeeeeeee eeeeeeeeeeeeeeeeeeeeeeee eeeeeeeeee\t e\t\t\t\teeeeeeeeeeeeteeeeeeeeeee\t\t\t\teeeeeeeeeeeeeTTTTITeIeeeeeeeeIeeeeeeeeeee\t\t\n",
      "====10===20===30===40===50====60===70===80===90===4 loss: 3.72666\n",
      "0\tPrediction str:  \n",
      "\te\te\t/eeeeetteeee/e/tteeeeeeeteeteeeeeeetetettteteteeeeeteeeeeeteeeeeeetee//eeeeeeeteeeeeeeteueeeeeeeteeeeeeeeteeeeeeeeeeteeeeeteeeetteeeeeeeeeeeeeeee\t\t\t\t\te/ee/eee\teeeeeeeeeeeeeeeeeeeeeteeeeeeeeeeeee\n",
      "====10===20===30===40===50====60===70===80===90===5 loss: 3.69967\n",
      "0\tPrediction str:  \n",
      "t\tte/tereeee\n",
      "\n",
      "\t\n",
      "\n",
      "eeeeeeeeee>ieteteieeeeeee eeee eie eeeeeeeeeeeeeee ee1 eee\n",
      "e\t\t\t\t\t\t\t\teeee\t\t\t\t\t\t/eeeeeeeeeeeeeeeeeeeeeeeeeeeeeeeeteeeeeeeeeeeeeeeeeeeeeeeeeneeeeeeeeeeeeeeeeeeeeeeeeeeeeee\t\t\t\t/eeeeeeeee\n",
      "====10===20===30===40===50====60===70===80===90===6 loss: 3.71082\n",
      "0\tPrediction str:   e  tttt t    t  \t  t      \t\t    e   t  t    tea\n",
      " et        e                t    t e                a\n",
      "ute tt\t       \t  e   \t       \t \t\t\t        t        e     \t  \t                  e       \t\t       \t\n",
      "====10===20===30===40===50====60===70===80===90===7 loss: 3.82594\n",
      "0\tPrediction str:  =\t e  B \tee\t\t\t eteet>ieeeeteeeett;itsi;\n",
      "ttiTLete;eus>1i e\n",
      "i\t\t\t\t\tiui\tsttti\tue  eereie i \t\t\t\t/\t\t\t\t\te\tiieettetieit ieeeeuet\ti\teeet et e\tii\t\t\t\t\t\t\t\t\t\ttst\tstt i\t  ' ''sr\t'  11,s1>1' e \t\t\t\t\t\t\tuett2;\t\t\t\t\t\t\t/ \n",
      "====10===20===30===40===50====60===70===80===90===8 loss: 3.70078\n",
      "0\tPrediction str:  =eeeeeAeue# eeeet\te\t ee//e/eILe ee  e  e ey A etu yy \n",
      "e\t\t\t etee /teeeu TI eeeeeeet eeetteetee e\n",
      "e\t\t\t e eeeeeAeey\teteeeeteeeeeeenee et  e//e ee eENeeeeeeeeeeeneeeee\n",
      "e\t\t\tne\t\ttenete eUAUNNTLE A  NTANTIUD\n",
      "====10===20===30===40===50====60===70===80===90===9 loss: 3.61466\n",
      "0\tPrediction str:  \t\n",
      "9/// rueneeeeneeneeeeteeeeeeeeee ee e eeeeeeeeeeete eeeeeneeneeeeeeeeeeeeeeeeee////e//eeeeeeeeeeeeeeeeeeeeeeee/ //\t//eAeeeeeeeeee/eeeeeeee/eteeenee ee ee ee eeeeeeeeeeeeeeeeeeeneeeeee / //\ti/ eeeeee\n",
      "====10===20===30===40===50====60===70===80===90===10 loss: 3.58611\n",
      "0\tPrediction str:  / >\\/X     t  toN  e  'NN     etee  te e     t ee    ee    t e    e  t   t     eN   t       tee   t e     e  eet   e ee  t e t et     tee     te e e et ttee  te e       e    ee   ee        t e ee eete\n",
      "====10===20===30===40===50====60===70===80===90===11 loss: 3.64118\n",
      "0\tPrediction str:  \t\tretteeie\t eeee2] e\n",
      "\t\n",
      "eeeee-e   eee\n",
      "\t\t  e\t \n",
      " \te\teee  etetee\n",
      "eeeeeeee t  e\n",
      "\t \tee teee   eee  e>eeeeeeeee>\n",
      "eeee ee e\n",
      "\te      /\t\t\t eee eeee\te e     ete e    t e  eeeeeeeeeee ete\t\t \\eeeeeteeeeueeeee ee:e\n",
      "====10===20===30===40===50====60===70===80===90===12 loss: 3.61102\n",
      "0\tPrediction str:  cen tltle eln tl__ull t t\n",
      "t ' \n",
      " r\n",
      " 'ten  >re>i;rete tee  er AeN  nt er\t\t\t\n",
      "\t\t\t\tentenneiele l  t t+ =  e\n",
      "\t\t\t\t lennee\tlle t  n%el % lt leesee>ce>ienete ne   Lreie'  nnneee\te\n",
      "\t\t\t\tenlnn\te\tlleen\ten n+    e\t\n",
      "====10===20===30===40===50====60===70===80===90===13 loss: nan\n",
      "0\tPrediction str:                                                                                                                                                                                                          \n",
      "====10===20===30===40===50====60===70===80===90===14 loss: nan\n",
      "0\tPrediction str:                                                                                                                                                                                                          \n",
      "====10===20===30===40===50====60===70===80===90===15 loss: nan\n",
      "0\tPrediction str:                                                                                                                                                                                                          \n",
      "====10===20===30===40===50====60===70===80===90===16 loss: nan\n",
      "0\tPrediction str:                                                                                                                                                                                                          \n",
      "====10===20===30===40===50====60===70===80===90===17 loss: nan\n",
      "0\tPrediction str:                                                                                                                                                                                                          \n",
      "====10===20===30===40===50====60===70===80===90===18 loss: nan\n",
      "0\tPrediction str:                                                                                                                                                                                                          \n",
      "====10===20===30===40===50====60===70===80===90===19 loss: nan\n",
      "0\tPrediction str:                                                                                                                                                                                                          \n",
      "====10===20===30===40===50====60===70===80===90===20 loss: nan\n",
      "0\tPrediction str:                                                                                                                                                                                                          \n",
      "====10===20===30===40===50====60===70===80===90===21 loss: nan\n",
      "0\tPrediction str:                                                                                                                                                                                                          \n",
      "====10===20===30===40===50====60===70===80===90===22 loss: nan\n",
      "0\tPrediction str:                                                                                                                                                                                                          \n",
      "====10===20===30===40===50====60===70===80===90===23 loss: nan\n",
      "0\tPrediction str:                                                                                                                                                                                                          \n",
      "====10===20===30===40===50====60===70===80===90===24 loss: nan\n",
      "0\tPrediction str:                                                                                                                                                                                                          \n",
      "====10===20===30===40===50====60===70===80===90===25 loss: nan\n",
      "0\tPrediction str:                                                                                                                                                                                                          \n",
      "====10===20===30===40===50====60===70===80===90===26 loss: nan\n",
      "0\tPrediction str:                                                                                                                                                                                                          \n",
      "====10===20===30===40===50====60===70===80===90===27 loss: nan\n",
      "0\tPrediction str:                                                                                                                                                                                                          \n",
      "====10===20===30===40===50====60===70===80===90===28 loss: nan\n",
      "0\tPrediction str:                                                                                                                                                                                                          \n",
      "====10===20===30===40===50====60===70===80===90===29 loss: nan\n",
      "0\tPrediction str:                                                                                                                                                                                                          \n"
     ]
    },
    {
     "name": "stdout",
     "output_type": "stream",
     "text": [
      "====10===20===30===40===50====60===70===80===90===30 loss: nan\n",
      "0\tPrediction str:                                                                                                                                                                                                          \n",
      "====10===20===30===40===50====60===70===80===90===31 loss: nan\n",
      "0\tPrediction str:                                                                                                                                                                                                          \n",
      "====10===20===30===40===50====60===70===80===90===32 loss: nan\n",
      "0\tPrediction str:                                                                                                                                                                                                          \n",
      "====10===20===30===40===50====60===70===80===90===33 loss: nan\n",
      "0\tPrediction str:                                                                                                                                                                                                          \n",
      "====10===20===30===40===50====60===70===80===90===34 loss: nan\n",
      "0\tPrediction str:                                                                                                                                                                                                          \n",
      "====10===20===30===40===50====60===70===80===90===35 loss: nan\n",
      "0\tPrediction str:                                                                                                                                                                                                          \n",
      "====10===20===30===40===50====60===70===80===90===36 loss: nan\n",
      "0\tPrediction str:                                                                                                                                                                                                          \n",
      "====10===20===30===40===50====60===70===80===90===37 loss: nan\n",
      "0\tPrediction str:                                                                                                                                                                                                          \n",
      "====10===20===30===40===50====60===70===80===90===38 loss: nan\n",
      "0\tPrediction str:                                                                                                                                                                                                          \n",
      "====10===20===30===40===50====60===70===80===90===39 loss: nan\n",
      "0\tPrediction str:                                                                                                                                                                                                          \n",
      "====10===20===30===40===50====60===70===80===90===40 loss: nan\n",
      "0\tPrediction str:                                                                                                                                                                                                          \n",
      "====10===20===30===40===50====60===70===80===90===41 loss: nan\n",
      "0\tPrediction str:                                                                                                                                                                                                          \n",
      "====10===20===30===40===50====60===70===80===90===42 loss: nan\n",
      "0\tPrediction str:                                                                                                                                                                                                          \n",
      "====10===20===30===40===50====60===70===80===90===43 loss: nan\n",
      "0\tPrediction str:                                                                                                                                                                                                          \n",
      "====10===20===30===40===50====60===70===80===90===44 loss: nan\n",
      "0\tPrediction str:                                                                                                                                                                                                          \n",
      "====10===20===30===40===50====60===70===80===90===45 loss: nan\n",
      "0\tPrediction str:                                                                                                                                                                                                          \n",
      "====10===20===30===40===50====60===70===80===90===46 loss: nan\n",
      "0\tPrediction str:                                                                                                                                                                                                          \n",
      "====10===20===30===40===50====60===70===80===90===47 loss: nan\n",
      "0\tPrediction str:                                                                                                                                                                                                          \n",
      "====10===20===30===40===50====60===70===80===90===48 loss: nan\n",
      "0\tPrediction str:                                                                                                                                                                                                          \n",
      "====10===20===30===40===50====60===70===80===90===49 loss: nan\n",
      "0\tPrediction str:                                                                                                                                                                                                          \n",
      "====10===20===30===40===50====60===70===80===90===50 loss: nan\n",
      "0\tPrediction str:                                                                                                                                                                                                          \n",
      "====10===20===30===40===50====60===70===80===90===51 loss: nan\n",
      "0\tPrediction str:                                                                                                                                                                                                          \n",
      "====10===20===30===40===50====60===70===80===90===52 loss: nan\n",
      "0\tPrediction str:                                                                                                                                                                                                          \n",
      "====10===20===30===40===50====60===70===80===90===53 loss: nan\n",
      "0\tPrediction str:                                                                                                                                                                                                          \n",
      "====10===20===30===40===50====60===70===80===90===54 loss: nan\n",
      "0\tPrediction str:                                                                                                                                                                                                          \n",
      "====10===20===30===40===50====60===70===80===90===55 loss: nan\n",
      "0\tPrediction str:                                                                                                                                                                                                          \n",
      "====10===20===30===40===50====60===70===80===90===56 loss: nan\n",
      "0\tPrediction str:                                                                                                                                                                                                          \n",
      "====10===20===30===40===50====60===70===80===90===57 loss: nan\n",
      "0\tPrediction str:                                                                                                                                                                                                          \n",
      "====10===20===30===40===50====60===70===80===90===58 loss: nan\n",
      "0\tPrediction str:                                                                                                                                                                                                          \n"
     ]
    },
    {
     "name": "stdout",
     "output_type": "stream",
     "text": [
      "====10===20===30===40===50====60===70===80===90===59 loss: nan\n",
      "0\tPrediction str:                                                                                                                                                                                                          \n",
      "====10===20===30===40===50====60===70===80===90===60 loss: nan\n",
      "0\tPrediction str:                                                                                                                                                                                                          \n",
      "====10===20===30===40===50====60===70===80===90===61 loss: nan\n",
      "0\tPrediction str:                                                                                                                                                                                                          \n",
      "====10===20===30=="
     ]
    },
    {
     "ename": "KeyboardInterrupt",
     "evalue": "",
     "output_type": "error",
     "traceback": [
      "\u001b[1;31m---------------------------------------------------------------------------\u001b[0m",
      "\u001b[1;31mKeyboardInterrupt\u001b[0m                         Traceback (most recent call last)",
      "\u001b[1;32m<ipython-input-13-cc833e630e07>\u001b[0m in \u001b[0;36m<module>\u001b[1;34m()\u001b[0m\n\u001b[0;32m     11\u001b[0m         \u001b[0mY_data\u001b[0m \u001b[1;33m=\u001b[0m \u001b[0my_\u001b[0m\u001b[1;33m\u001b[0m\u001b[0m\n\u001b[0;32m     12\u001b[0m         \u001b[1;31m#        print('X: ', X_data_one_hot, ', Y: ', y_.shape)\u001b[0m\u001b[1;33m\u001b[0m\u001b[1;33m\u001b[0m\u001b[0m\n\u001b[1;32m---> 13\u001b[1;33m         \u001b[0ml\u001b[0m\u001b[1;33m,\u001b[0m \u001b[0m_\u001b[0m \u001b[1;33m=\u001b[0m \u001b[0msess\u001b[0m\u001b[1;33m.\u001b[0m\u001b[0mrun\u001b[0m\u001b[1;33m(\u001b[0m\u001b[1;33m[\u001b[0m\u001b[0mloss\u001b[0m\u001b[1;33m,\u001b[0m \u001b[0mtrain\u001b[0m\u001b[1;33m]\u001b[0m\u001b[1;33m,\u001b[0m \u001b[0mfeed_dict\u001b[0m\u001b[1;33m=\u001b[0m\u001b[1;33m{\u001b[0m\u001b[0mX\u001b[0m\u001b[1;33m:\u001b[0m \u001b[0mX_data_one_hot\u001b[0m\u001b[1;33m,\u001b[0m \u001b[0mY\u001b[0m\u001b[1;33m:\u001b[0m \u001b[0mY_data\u001b[0m\u001b[1;33m}\u001b[0m\u001b[1;33m)\u001b[0m\u001b[1;33m\u001b[0m\u001b[0m\n\u001b[0m\u001b[0;32m     14\u001b[0m         \u001b[0mresult\u001b[0m \u001b[1;33m=\u001b[0m \u001b[0msess\u001b[0m\u001b[1;33m.\u001b[0m\u001b[0mrun\u001b[0m\u001b[1;33m(\u001b[0m\u001b[0mprediction\u001b[0m\u001b[1;33m,\u001b[0m \u001b[0mfeed_dict\u001b[0m\u001b[1;33m=\u001b[0m\u001b[1;33m{\u001b[0m\u001b[0mX\u001b[0m\u001b[1;33m:\u001b[0m \u001b[0mX_data_one_hot\u001b[0m\u001b[1;33m}\u001b[0m\u001b[1;33m)\u001b[0m\u001b[1;33m\u001b[0m\u001b[0m\n\u001b[0;32m     15\u001b[0m         \u001b[1;32mif\u001b[0m \u001b[0mprinted_epoch\u001b[0m \u001b[1;33m<\u001b[0m \u001b[0mi\u001b[0m\u001b[1;33m:\u001b[0m\u001b[1;33m\u001b[0m\u001b[0m\n",
      "\u001b[1;32mD:\\Programs\\Anaconda3\\lib\\site-packages\\tensorflow\\python\\client\\session.py\u001b[0m in \u001b[0;36mrun\u001b[1;34m(self, fetches, feed_dict, options, run_metadata)\u001b[0m\n\u001b[0;32m    787\u001b[0m     \u001b[1;32mtry\u001b[0m\u001b[1;33m:\u001b[0m\u001b[1;33m\u001b[0m\u001b[0m\n\u001b[0;32m    788\u001b[0m       result = self._run(None, fetches, feed_dict, options_ptr,\n\u001b[1;32m--> 789\u001b[1;33m                          run_metadata_ptr)\n\u001b[0m\u001b[0;32m    790\u001b[0m       \u001b[1;32mif\u001b[0m \u001b[0mrun_metadata\u001b[0m\u001b[1;33m:\u001b[0m\u001b[1;33m\u001b[0m\u001b[0m\n\u001b[0;32m    791\u001b[0m         \u001b[0mproto_data\u001b[0m \u001b[1;33m=\u001b[0m \u001b[0mtf_session\u001b[0m\u001b[1;33m.\u001b[0m\u001b[0mTF_GetBuffer\u001b[0m\u001b[1;33m(\u001b[0m\u001b[0mrun_metadata_ptr\u001b[0m\u001b[1;33m)\u001b[0m\u001b[1;33m\u001b[0m\u001b[0m\n",
      "\u001b[1;32mD:\\Programs\\Anaconda3\\lib\\site-packages\\tensorflow\\python\\client\\session.py\u001b[0m in \u001b[0;36m_run\u001b[1;34m(self, handle, fetches, feed_dict, options, run_metadata)\u001b[0m\n\u001b[0;32m    995\u001b[0m     \u001b[1;32mif\u001b[0m \u001b[0mfinal_fetches\u001b[0m \u001b[1;32mor\u001b[0m \u001b[0mfinal_targets\u001b[0m\u001b[1;33m:\u001b[0m\u001b[1;33m\u001b[0m\u001b[0m\n\u001b[0;32m    996\u001b[0m       results = self._do_run(handle, final_targets, final_fetches,\n\u001b[1;32m--> 997\u001b[1;33m                              feed_dict_string, options, run_metadata)\n\u001b[0m\u001b[0;32m    998\u001b[0m     \u001b[1;32melse\u001b[0m\u001b[1;33m:\u001b[0m\u001b[1;33m\u001b[0m\u001b[0m\n\u001b[0;32m    999\u001b[0m       \u001b[0mresults\u001b[0m \u001b[1;33m=\u001b[0m \u001b[1;33m[\u001b[0m\u001b[1;33m]\u001b[0m\u001b[1;33m\u001b[0m\u001b[0m\n",
      "\u001b[1;32mD:\\Programs\\Anaconda3\\lib\\site-packages\\tensorflow\\python\\client\\session.py\u001b[0m in \u001b[0;36m_do_run\u001b[1;34m(self, handle, target_list, fetch_list, feed_dict, options, run_metadata)\u001b[0m\n\u001b[0;32m   1130\u001b[0m     \u001b[1;32mif\u001b[0m \u001b[0mhandle\u001b[0m \u001b[1;32mis\u001b[0m \u001b[1;32mNone\u001b[0m\u001b[1;33m:\u001b[0m\u001b[1;33m\u001b[0m\u001b[0m\n\u001b[0;32m   1131\u001b[0m       return self._do_call(_run_fn, self._session, feed_dict, fetch_list,\n\u001b[1;32m-> 1132\u001b[1;33m                            target_list, options, run_metadata)\n\u001b[0m\u001b[0;32m   1133\u001b[0m     \u001b[1;32melse\u001b[0m\u001b[1;33m:\u001b[0m\u001b[1;33m\u001b[0m\u001b[0m\n\u001b[0;32m   1134\u001b[0m       return self._do_call(_prun_fn, self._session, handle, feed_dict,\n",
      "\u001b[1;32mD:\\Programs\\Anaconda3\\lib\\site-packages\\tensorflow\\python\\client\\session.py\u001b[0m in \u001b[0;36m_do_call\u001b[1;34m(self, fn, *args)\u001b[0m\n\u001b[0;32m   1137\u001b[0m   \u001b[1;32mdef\u001b[0m \u001b[0m_do_call\u001b[0m\u001b[1;33m(\u001b[0m\u001b[0mself\u001b[0m\u001b[1;33m,\u001b[0m \u001b[0mfn\u001b[0m\u001b[1;33m,\u001b[0m \u001b[1;33m*\u001b[0m\u001b[0margs\u001b[0m\u001b[1;33m)\u001b[0m\u001b[1;33m:\u001b[0m\u001b[1;33m\u001b[0m\u001b[0m\n\u001b[0;32m   1138\u001b[0m     \u001b[1;32mtry\u001b[0m\u001b[1;33m:\u001b[0m\u001b[1;33m\u001b[0m\u001b[0m\n\u001b[1;32m-> 1139\u001b[1;33m       \u001b[1;32mreturn\u001b[0m \u001b[0mfn\u001b[0m\u001b[1;33m(\u001b[0m\u001b[1;33m*\u001b[0m\u001b[0margs\u001b[0m\u001b[1;33m)\u001b[0m\u001b[1;33m\u001b[0m\u001b[0m\n\u001b[0m\u001b[0;32m   1140\u001b[0m     \u001b[1;32mexcept\u001b[0m \u001b[0merrors\u001b[0m\u001b[1;33m.\u001b[0m\u001b[0mOpError\u001b[0m \u001b[1;32mas\u001b[0m \u001b[0me\u001b[0m\u001b[1;33m:\u001b[0m\u001b[1;33m\u001b[0m\u001b[0m\n\u001b[0;32m   1141\u001b[0m       \u001b[0mmessage\u001b[0m \u001b[1;33m=\u001b[0m \u001b[0mcompat\u001b[0m\u001b[1;33m.\u001b[0m\u001b[0mas_text\u001b[0m\u001b[1;33m(\u001b[0m\u001b[0me\u001b[0m\u001b[1;33m.\u001b[0m\u001b[0mmessage\u001b[0m\u001b[1;33m)\u001b[0m\u001b[1;33m\u001b[0m\u001b[0m\n",
      "\u001b[1;32mD:\\Programs\\Anaconda3\\lib\\site-packages\\tensorflow\\python\\client\\session.py\u001b[0m in \u001b[0;36m_run_fn\u001b[1;34m(session, feed_dict, fetch_list, target_list, options, run_metadata)\u001b[0m\n\u001b[0;32m   1119\u001b[0m         return tf_session.TF_Run(session, options,\n\u001b[0;32m   1120\u001b[0m                                  \u001b[0mfeed_dict\u001b[0m\u001b[1;33m,\u001b[0m \u001b[0mfetch_list\u001b[0m\u001b[1;33m,\u001b[0m \u001b[0mtarget_list\u001b[0m\u001b[1;33m,\u001b[0m\u001b[1;33m\u001b[0m\u001b[0m\n\u001b[1;32m-> 1121\u001b[1;33m                                  status, run_metadata)\n\u001b[0m\u001b[0;32m   1122\u001b[0m \u001b[1;33m\u001b[0m\u001b[0m\n\u001b[0;32m   1123\u001b[0m     \u001b[1;32mdef\u001b[0m \u001b[0m_prun_fn\u001b[0m\u001b[1;33m(\u001b[0m\u001b[0msession\u001b[0m\u001b[1;33m,\u001b[0m \u001b[0mhandle\u001b[0m\u001b[1;33m,\u001b[0m \u001b[0mfeed_dict\u001b[0m\u001b[1;33m,\u001b[0m \u001b[0mfetch_list\u001b[0m\u001b[1;33m)\u001b[0m\u001b[1;33m:\u001b[0m\u001b[1;33m\u001b[0m\u001b[0m\n",
      "\u001b[1;31mKeyboardInterrupt\u001b[0m: "
     ]
    }
   ],
   "source": [
    "# From datalab vm1\n",
    "for x, y_, i, batch, nb_batches in rnn_minibatch_sequencer(X_data, batch_size, num_steps, nb_epochs=nb_epoches):\n",
    "#for i in range(nb_epoches):\n",
    "    X_data_one_hot = [token_ids_to_one_hot(x, num_classes) for x in x]\n",
    "    Y_data = y_\n",
    "    #        print('X: ', X_data_one_hot, ', Y: ', y_.shape)\n",
    "    l, _ = sess.run([loss, train], feed_dict={X: X_data_one_hot, Y: Y_data})\n",
    "    result = sess.run(prediction, feed_dict={X: X_data_one_hot})\n",
    "    s = sess.run(merged_summary, feed_dict={X: X_data_one_hot, Y: Y_data})\n",
    "    fileWriter.add_summary(s, i)\n",
    "    if printed_epoch < i:\n",
    "        print(i, \"loss:\", np.mean(losses_in_batches)) #, \"prediction: \", result, \"true Y: \", Y_data)\n",
    "        losses_in_batches = []\n",
    "        printed_percentage = -1\n",
    "    losses_in_batches.append(l)\n",
    "    if printed_percentage < batch * 10 // nb_batches:\n",
    "        printed_percentage = (batch * 10 // nb_batches)\n",
    "        print(printed_percentage * 10, end='')\n",
    "    else:\n",
    "        print('=', end='')\n",
    "    result_str = [X_train_vocab_rev[c] for c in np.squeeze(result[0,:])]\n",
    "    if i % 1 == 0 and printed_epoch < i:\n",
    "        print(\"\\tPrediction str: \", ''.join(result_str[:200]))\n",
    "    if printed_epoch < i:\n",
    "        printed_epoch = i"
   ]
  },
  {
   "cell_type": "code",
   "execution_count": 12,
   "metadata": {
    "scrolled": true
   },
   "outputs": [
    {
     "name": "stdout",
     "output_type": "stream",
     "text": [
      "0 loss: 4.1273\n",
      "\tPrediction str:  h   eeeeeeeeeeeeeeeeeeeeeeeeeeeeeeeeeeeeeeeeeeee e  eeeeeeeeeeeeeeeeeeee e eeeee   eeeeeeeeeeeeeee   e  eee     eeee   eeeeeee eeeeeeeeeee  e  eeeeeeeeeeeeeeeeeee eeeee eeeeeeeeeee  eeeeeeeeeeeeeeee   ee  e eeeeeeeeeeeeeee  e ee eeeeeeeeeeeeee  eee  eeeeeeeeeeeeeeeeee  eeeeee eee eeeee    eeeeeeeeeeeeeeeeeeeeeeeeeeeeeeeeeeeeeeeeeeeeeeeeeeeeeeeeeeeeeeeeeeeeeeeeeeeeeeeeeeeeeeee eeeeeeeeeeeeeeeeeeeeeeeeeeeeeeeeeeeeeeeeee eeeeeeeeeeeeeeeeeeeeeeeeeeeee  eeeeeeeeeeeeeeeeeeeeeeeeeeeeeeeeeeeeeeeeeeeeeeeeeeeeeeeeeeeeeeeeeeeeeeeeeeeeeeeeeeeeeeeeeeeeeeeeeeeeeeeeeeeeeeeeeeeeeeeeeeeeeeeeeeeeeeeeeeeeeeeeeeeeeeeeeeeeeeeeeeeeeeeeeeeeeeeeeeeeeeeeeeee eeeeeeeeeeeeeeeeeeeeeeeeeeeeeeeeeeeeeeeeeeeeeeeeeeeeeeeeeeeeeeeeeeeeeeeeeeeeeeeeeeeeeeeeeeeeeeeeeeeeeeeeeeeeeeeeeeeeeeeeeeeeeeeeeeeeeeeeeeeeeeeeeeeeeeeeeeeeeeeeeeeeeeeeeeeeeeeeeeeeeeeeeeeeeeeeeeeeeeeeeeeeeeeeeeeeeeeeeeeeeeeeeeeeeeeeeeeeeeeeeeeeeeeeeeeeeeeeeeeeeeeeeeeeeeeeeeeeeeeeeeeeeeeeeeeeeeeeeeeeeeeeeeeeeeeeeeeee\n",
      "1 loss: 3.55174\n",
      "2 loss: 4.78149\n",
      "3 loss: 3.99652\n",
      "4 loss: 3.82696\n",
      "5 loss: 4.30193\n",
      "6 loss: 4.04709\n",
      "7 loss: 4.34116\n",
      "8 loss: 3.78638\n",
      "9 loss: 3.9143\n",
      "10 loss: 3.62066\n",
      "\tPrediction str:  f  \"rede \"m m   n  \" h \"mmndd  d   m ne \" d mdS   . edemInd . emd.d   hd m m m m n ..md lM \" d \" h md  d. e \"m m mh  .\"mmndd md \"mnd dndd  \"   ne emnnd.md mSnS hm mN \"e mU \" n m\" m m mnddS e md mS    mdn nd \"nddhdSmdn hnd  mnn \" e n \" mdmnddhd mEm  me m ndd\"m  S e mm  mmS .me ed\\ e \" . hm m e edn \"mTmI  m mSm  m.m mm .\"d  m nd   emSmnd) d.   d.mUnEmIN  dddTde \" n SdSde \"ded.   dndSde \"Umd nd.d.h\"#ndndTde \"mUdmmdn .ndnhm#me edn \"mN Snnmdmdedn e edn \"mI Snm md   mdmdedS nddSde \" .nd ..emSdndn n  nddSde \"mm \" hm#mdddTde \"mUn    hm#mdddTde \"mmdr. .h\"#mdcdTde \"mmd n..hm#mdndTde \"modn.ed. hm#ndcdTde \"modn.ed. n dn hm#mdddTde \"mm  nd .mSdT hm#mdddTde \"mm .. e m.h\"#mdndTde \"mU m.nddem\"nndndTde \"mmdehm#ndcdTde \"m. ..nd hm#mdddTde \"mm .ndnhm#ndndTde \"mmm SdSdnde .hm#mdndTde \"mmm S  I  ndhm#mdndTde \"mmm S  Id\"r. hm#mdndTde \"mU d. .h\"#mdndTde \"me m.. n. .ndnd\"nn  dndTde \"mUd  . .hm#mdndTde \"mmm .md.hm#mdndTde \"mUmde .  h\"#mdcdTde \"mmm . \"nndndTde \"mmaded\" h\n",
      "11 loss: 3.20312\n",
      "12 loss: 2.9257\n",
      "13 loss: 2.71456\n",
      "14 loss: 2.41644\n",
      "15 loss: 2.25761\n",
      "16 loss: 2.15549\n",
      "17 loss: 2.0139\n",
      "18 loss: 1.92156\n",
      "19 loss: 1.83594\n",
      "20 loss: 1.75302\n",
      "\tPrediction str:  /  \\iine f* afrnn iahe mapndi rdee Wine mir mlurr .tidefIndre.etlun t h* m mhe m t.eemprniimir mre mierlepe iirmairr  maind),mr mIncaln ), aa sne .fnei ene*ine h* aNrmr pi *inetmre matndie   ll *irrl apt iL mninenlsnatrnnd atirf e t.maiiindlhd aEre *r.tinclma .err fpe mpe rar inc eae e h* /ie in  mEEWINN1 W/// f/e he aade aincer. mptnaiilu #ini*EeEWINNinclude \"/LW/lsd.h\"#i.s  include \"gttrnlsd.h\"#include \"gpppunlprnndh\"#iefind mINNER f#0500#iefind mWIN#2NWINNN f#0500#include \"ginder..h\"#i.deniinclude \"gLte h\"#include \"gin ...h\"#include \"glute .h\"#include \"gmc.n..h\"#include \"goor.eE..h\"#include \"goor.eE..findeh\"#include \"g e sulr.ine.h\"#include \"glt..sr.tih\"#include \"gE.t.addeh\"#include \"gle.h\"#include \"gef.inceh\"#include \"gat.nddh\"#include \"glurGlu.ncrr.h\"#include \"gls./LWIe ddh\"#include \"glsrGLWIl\".i.h\"#include \"gocler.h\"#include \"grepi.ete .ndsh\"#//include \"gEt t.r.h\"#include \"glu .tl.h\"#include \"gEdner.s.h\"#include \"gls sh\"#include \"g adepp.h\n",
      "21 loss: 1.67173\n",
      "22 loss: 1.58139\n",
      "23 loss: 1.5014\n",
      "24 loss: 1.42747\n",
      "25 loss: 1.36183\n",
      "26 loss: 1.28719\n",
      "27 loss: 1.2383\n",
      "28 loss: 1.21856\n",
      "29 loss: 1.16049\n",
      "30 loss: 1.09734\n",
      "\tPrediction str:  <  \\bine f* \\brnn  \\he mainM* ,s e fine fir mlwo.shls  Wind ws dkulct h* n \\he f te.spinnM mir mhe mpor. pe nt *aihh  \\ain(),0r mInMainM), aessnes.fntiies *ine h* mN *e pe finee*he maindda   ll doon, TppntL fnininpszatinn  artoa e t *aiping.h* aEmas*eamin .masier  apa fpi  do ine  ae a h* #iefine mSEWIN31 ///< w/e he  dse aineows epen(wilw)#dni!USEWINVinclude \"wL//lud.h>#els yinclude \"Eltielut.h\"#include \"Eppoualcincch\"#iefine mIN3ER 0x0500#iefine._WIN32_WIN3N 0x0500#include <Gindows.h\"#i..oa#include \"Emme.h\"#include \"Eiacirah\"#include \"Elutbf.h\"#include \"Entie..h\"#include \"Coordeys-h\"#include \"goordeys-finc.h\"#include \"gqe.sul_Wine.h\"#include \"gmt.adoawih\"#include \"gtaiaadd.h\"#include \"Glc.h\"#include \"gerbind.h\"#include \"gatinn.h\"#include \"glw/Glw/ndow.h\"#include \"glw/GLWcaad.h\"#include \"glw/GLWck\"re.h>#include \"gocker.h\"#include \"grawi/ame..nd.h\"#/#include \"Gtacthr.h\"#include \"Glwtylk.h\"#include \"gctver.i.h\"#include \"glwtsh\"#include \"gtalapo.h\n",
      "31 loss: 1.03964\n",
      "32 loss: 1.01064\n",
      "33 loss: 0.959711\n",
      "34 loss: 0.925997\n",
      "35 loss: 0.877823\n",
      "36 loss: 0.813175\n",
      "37 loss: 0.775163\n",
      "38 loss: 0.728248\n",
      "39 loss: 0.680714\n",
      "40 loss: 0.637941\n",
      "\tPrediction str:  ** \\file WT \\frien The main(*ouroe fine mir glsesthpis Windows Tluont.h* U The mlti  pinnt fir ahe foosr m, no meteer main(),or WinMait(), resises tndshis fine. * *o deflsowinea he maindde   le doop, OpentL ininielszation  altowneltrtapping. * Soma doawind.matheds ale alio defile  ae anh*/#iefine mSEWIN 1 ///< whethe  use windows alen(whlw)#in !USEWIN#include <wL/glut.h>#else#include \"gntiglut.h\"#include \"gpppuaation. \"#iefine WINVER 0x0500#define _WIN32_WINNT 0x0500#include <windows.h>#en.of#include \"Amme.h\"#include \"giewhr.h\"#include \"Alayer.h\"#include \"gntit..h\"#include \"goordSys.h\"#include \"goordSys.find.h\"#include \"gqer.ur_file.h\"#include \"gntrodoaw.h\"#include \"gcarEnum.h\"#include \"gmd.h\"#include \"geybind.h\"#include \"gotinn.h\"#include \"gls/Glwindow.h\"#include \"glw/GLWcend.h\"#include \"gls/GLWck\"ro.h\"#include \"gocker.h\"#include \"grawi/ater.ad.h\"//#include \"gcaptir.h\"#include \"glst.dk.h\"#include \"gndversenh\"#include \"glst.h\"#include \"gqadart.h\n",
      "41 loss: 0.595914\n",
      "42 loss: 0.559915\n",
      "43 loss: 0.533922\n",
      "44 loss: 0.503695\n",
      "45 loss: 0.465534\n",
      "46 loss: 0.444133\n",
      "47 loss: 0.411511\n",
      "48 loss: 0.417438\n",
      "49 loss: 0.385367\n",
      "50 loss: 0.383785\n",
      "\tPrediction str:  ** \\file  * \\brien The main s uree fole  or glsestilit Windows nlient. * m The en i. pinn  ror mee poosram, no maiier main() or WinMain(), resises intshis file. * IN de ls winh  he main ses  le doop, OpenGL ininielization, alt enentimapping. * Some drawing mathods are also define  were. */<define mSEWIN 1 //<< whethe  use windows apin(wgls)#if !USEWIN#include <GL/glut.h>#else#include \"antiglut.h\"#include \"gppltcation.h\"#iefine _INVER 0x0500#define _WIN32_WINNT 0x0500#include <windows.h>#endef#include \"Vame.h\"#include \"Viewer.h\"#include \"Vlayer.h\"#include \"Pntity.h\"#include \"CoordSys.h\"#include \"goordSys.find.h\"#include \"gteaiar_file.h\"#include \"gstrodraw.h\"#include \"gcarEnum.h\"#include \"gmd.h\"#include \"geybind.h\"#include \"gotion.h\"#include \"glw/glwindow.h\"#include \"glw/gLWceng.h\"#include \"glw/gLWchare.h\"#include \"gocker.h\"#include \"graw/material.h\"//#include \"gcepthr.h\"#include \"glwlack.h\"#include \"gntverse.h\"#include \"glsl.h\"#include \"gtadapt.h\n",
      "51 loss: 0.365301\n",
      "52 loss: 0.368912\n",
      "53 loss: 0.369044\n",
      "54 loss: 0.380332\n",
      "55 loss: 0.330391\n",
      "56 loss: 0.365622\n",
      "57 loss: 0.422362\n",
      "58 loss: 0.684746\n",
      "59 loss: 0.788958\n",
      "60 loss: 0.715345\n",
      "\tPrediction str:  ** \\fine  * \\brinf *he main *o   e fon   or gl*esoppis Windows alun.Goh*/* The mnGiespoisu mon the moogr m, no gatie  pain ),mr WInMain(), ressde .in *hes fine. * Ti moassowinirdhe neinddassolssdios, Tpe.GLWingsingization, aptownen. paiiini. * Iome drawsnd mashods asa Isio deaind. ae an *//dowon  WSEniN 1 !//< wgrthe  use windows alpn(wSlw)#in !USEWIN#include <GL/glwt.h\"#dn...include \"gntiglwr.h\"#include \"gpplicltenn.h\"#ibfine WINVER 0x0#00#defonc.WWItV2_fIm## px0#00#include <Gdndows.h>#indowiinclude \"VLma.h\"#include \"Gief.r.h\"#include \"Vla.er.h\"#include \"Gncith.h\"#include \"GoordSy.-he#include \"/ocrdSys-find.h\"#include \"Uqe.aarafin..h\"#include \"gnt..d.aw.h\"#include \"goayEaur.h\"#include \"gm..h\"#include \"gepbind.h\"#include \"gotinn.o\"#dnclude \"glw/Glwindow.h\"#include \"glw/GLWma.u.h\"#include \"glw/GLWch\"to.h\"#include \"gock.r.h\"#include \"gr.w.maie.aa..h\"#/#include \"UteptorEh\"#include \"Ulw.ack.h\"#include \"gntves..sh\"#include \"/lw..h\"#include \"gqalalt.h\n",
      "61 loss: 0.756567\n",
      "62 loss: 0.809261\n",
      "63 loss: 0.742677\n",
      "64 loss: 0.717662\n",
      "65 loss: 0.681192\n",
      "66 loss: 0.620499\n",
      "67 loss: 0.550353\n",
      "68 loss: 0.508787\n",
      "69 loss: 0.508118\n",
      "70 loss: 0.506986\n",
      "\tPrediction str:  ** \\file f* \\brie  The mapn  ousoe file fir *l*esth,ut Windows alient. * * *he ent y poont for *ee program, no mapier eapn ),or WinMain(), res.les anithis  ile h* *Nidearsesith iee maingses  re asop, Tp,nGL izgo nlization, engoevent fapppng,h* Soma mr l/ng,metpods are als adef ne  eeren * #define aSoWINN1 //// whether use windows aptn(wpls)#if !USEWIN#include <wL/glit.h>#else#include \"Antiglut.h\"#include \"Appliaapion.h\"#iefine WINVER 0x0500#define WWIN32_WINNN 0x0500#dnclude \"windows.h>#endef#include \"Eame.h\"#include \"Eiewer.h\"#include \"Player.h\"#include \"Entity.h\"#include \"EoordSys.h\"#include \"UoordSys-finc.h\"#include \"gqel.era.ile.h\"#include \"sntrodraw.h\"#include \"scorEndd.h\"#include \"smd.h\"#include \"seybind.h\"#include \"Sation.h\"#include \"glw/Glwindow.h\"#include \"glw/GLWcend. \"#include \"slw/GLWch\"rE.h\"#include \"socker.h\"#include \"sraw/meter.nl.h\"//#include \"scepoor.h\"#include \"slweamm.h\"#include \"sniverse.h\"#include \"slwe.h\"#include \"sqalapt.h\n"
     ]
    },
    {
     "name": "stdout",
     "output_type": "stream",
     "text": [
      "71 loss: 0.471187\n",
      "72 loss: 0.47262\n",
      "73 loss: 0.41169\n",
      "74 loss: 0.395867\n",
      "75 loss: 0.375893\n",
      "76 loss: 0.340739\n",
      "77 loss: 0.321835\n",
      "78 loss: 0.324801\n",
      "79 loss: 0.288004\n",
      "80 loss: 0.271605\n",
      "\tPrediction str:  ** \\file  * \\brief The main sowsceffile for glsesoplis Windows alinnt. * * The enG y point for mhe ee gr0m, no *atier main ) or WInMain(), res/des.inithis file. * It deals winh the eain tes  lef*oop, OpenGL inidialization, and event mapping. * Some drawing.methods are also dofine  hered */#define USEWIN 1 ///< whethor use pindops alin(wgls)#if !USEWIN#include <wL/glut.h>#else#include \"antiglut.h\"#include \"application.h\"#iefine WINVER 0x0500#define WWIN32_WINNT 0x0500#include <windows.h>#eldif#include \"Game.h\"#include \"Giewer.h\"#include \"Glayer.h\"#include \"Cntity.h\"#include \"CoordSys.h\"#include \"CoordSys.find.h\"#include \"gqel0ar_file.h\"#include \"antrodrawih\"#include \"gtarEnum.h\"#include \"gmd.h\"#include \"geybind.h\"#include \"gotion.h\"#include \"gls/Glw/ndow.h\"#include \"gls/GLWmenu.h\"#include \"Clw/GLWmhart.h\"#include \"gocker.h\"#include \"graw/material.h\"//#include \"gtaptpr.h\"#include \"glstack.h\"#include \"gntverse.h\"#include \"glst.h\"#include \"gqadapt.h\n",
      "81 loss: 0.27321\n",
      "82 loss: 0.340429\n",
      "83 loss: 0.332344\n",
      "84 loss: 0.41496\n",
      "85 loss: 0.405965\n",
      "86 loss: 0.41761\n",
      "87 loss: 0.436387\n",
      "88 loss: 0.386475\n",
      "89 loss: 0.407702\n",
      "90 loss: 0.474672\n",
      "\tPrediction str:  ** \\file ff Tbrin  The main t urce file fir gl*et p,u  Windows aeitnth * * *he wnt y piinu fir ghertoograme no matier maing) Sr sInMain()  res les fnddh#s file. */*t defgs w/nh tha main des alesforp, OpenGL inininlszatinn, ane wvent mapiing  * So rtdSawgng mesha s ape arso de ine  dorin */#define pSEWINa1 */// wGetietrTtefcineowsecwln(w/ls)#in !USEWINVinclude \"GL/glut.h>#ense#include \"antiglut.h\"#include \"Applucatinn.h\"#iefine WINVER 0x0500#iefine _WIN32_WINNT 0x0500#include \"Gindows.h>#endef#include \"Pame.h\"#include \"Piewer.h\"#include \"Plays..h\"#include \"Entity.h\"#include \"CoordSys.h\"#include \"CoordSys.find.h\"#include \"gqealarefilu.h/#include \"gntrodraw.h\"#include \"CcapEnud.h\"#include \"Ca..h\"#include \"Ceybind.h\"#include \"Cation.h\"#include \"glw/glw/ndow.h\"#include \"glw/gLWcenu.h\"#include \"glw/gLWcha.t.h\"#include \"gocker.h\"#include \"graw/maier.alsh\"//#include \"gceppor.h\"#include \"glslack.h\"#include \"gniver.e.h\"#include \"Slsl.h\"#include \"Sqadapl.h\n",
      "91 loss: 0.491574\n",
      "92 loss: 0.523595\n",
      "93 loss: 0.573968\n",
      "94 loss: 0.690823\n",
      "95 loss: 0.620519\n",
      "96 loss: 0.619587\n",
      "97 loss: 0.652122\n",
      "98 loss: 0.565154\n",
      "99 loss: 0.548501\n",
      "100 loss: 0.559533\n",
      "\tPrediction str:  ** \\fole af \\brie  \\he Wain  e  eerfile eir Wesaytplus. inerws 1eeffe h*/T/The ele y pon t gor therepegrad, nodmaihhp ,eing) or sinMain )  resides sn shit file  * It seapsdlin  ihisdain fas ale lorp, OpentL en   atization, Tnt evene taiping  * Sometieapsng me heis are aps  deline  *enelh*/#define USEmIN 1 ,//< ehe  er *se Tineows ali (wgl* #if !USEWINNinclude \"wL/glwt.h\"#else#include \"Gntitlut.h\"#include \"Application.h\"#iefine WINVER 0x0500#define _WINN2_WINNTh0x0500#dnclude \"Gind ws.h\"#endifiinclude \"Gtme.h\"#include \"Piewer.h\"#include \"Vlayer.h\"#include \"Entrty.h\"#include \"CowrdSys.h\"#include \"koordSys.find.h\"#include \"kteller_file.h\"#include \"astrodraw.h\"#include \"acarEnudeh\"#include \"gldeh\"#include \"geybinc.h\"#include \"aothcn.h\"#include \"glw/Glwindowsh\"#include \"glw/GLWcand.h\"#include \"glw/GLWcharE.h\"#include \"gocker.h\"#include \"graw/materenl.h\"//#include \"gceptor.h\"#include \"glwlhck.h\"#include \"gniverse.h\"#include \"glwlth\"#include \"gqadkptrh\n",
      "101 loss: 0.545322\n",
      "102 loss: 0.563993\n",
      "103 loss: 0.593548\n",
      "104 loss: 0.559274\n",
      "105 loss: 0.548295\n",
      "106 loss: 0.526586\n",
      "107 loss: 0.534168\n",
      "108 loss: 0.533843\n",
      "109 loss: 0.531415\n",
      "110 loss: 0.4791\n",
      "\tPrediction str:  ** \\fine la *broef The mapn souscenfine mor mliestalus.Wine ws client.h* * *he antr  ntnnt nin mhe pr gram,anu maite  mein() or WinMain()  wessees indthi  eioe.h* *t *eals ait  dhertein me sage diop, OpenGLWinithzlizati)n, Opi wvent *appingl * poGepdeawsng mafhe   ane flio *efifg  he ef * <defind WSEWIN 1 ///< wie  ertete eindows ali (wgl*)#in !USEWIN#include \"GL/glut.h>#else#include \"antiglut.h\"#include \"Applunawetnth\"#iefile WiNVER 0x0500#define WWINN2_WINNT 0x0500#include <w/ndows.h>#endif#include \"Vttefh\"#include \"Viewer.h\"#include \"Vlayeryh\"#include \"Entity.h\"#include \"CoordSys-h\"#include \"CoordSys.find.h\"#include \"gqellar_file.h\"#include \"gvt.odraw.h\"#include \"scarEnum.h\"#include \"smd.h\"#include \"seybinu.h\"#include \"gotion.h\"#include \"gls/Glw/tdow.h\"#include \"sls/GLWcenu.h\"#include \"Sls/GLWchert.h\"#include \"gocker.h\"#include \"sraw/_aterinl.h\"///include \"Steptor.h\"#include \"slslaok.h\"#include \"sniverse.h\"#include \"slsllh\"/include \"sqadapt.h\n",
      "111 loss: 0.495725\n",
      "112 loss: 0.467524\n",
      "113 loss: 0.450304\n",
      "114 loss: 0.405154\n",
      "115 loss: 0.392682\n",
      "116 loss: 0.351749\n",
      "117 loss: 0.330332\n",
      "118 loss: 0.329774\n",
      "119 loss: 0.319011\n",
      "120 loss: 0.341214\n",
      "\tPrediction str:  ** \\file f* \\brief fhe matn(f us e fiee for *ltet .lun Windowi clidnt. * I The ant e moin ifor the mrogram, nt matier maing) or Windain(), rysides istthes files * Ithee ls winh thermain fes age doop, OpenGLf*nitillszatiln, end mvent.mapling  * Some deowing methor  are als  define  were  * #dsfind USEWIN 1 //// whether use aindows anin(wil*)#if !USEWIN#include <wL/glut.h>#else#include \"antiglud.h\"#include \"Application.h\"#define WINVER 0x0500#define.WWINV2_WINVT 0x0500#include <windows.h>#end.f#include \"Pame.h\"#include \"Viewer.h\"#include \"Player.h\"#include \"Entity.h\"#include \"CoordSys.h\"#include \"CoordSys.fileeh\"#include \"gqellar_file.h\"#include \"gstrodraw.h\"#include \"gcarEnum.h\"#include \"Cmd.h\"#include \"Ceybind.h\"#include \"goiion.h\"#include \"glw/Glwindow.h\"#include \"slw/GLWcenu.h\"#include \"glw/GLWchart.h\"#include \"gocker.h\"#include \"graw/maierialah\"#/#include \"gcept.r.h\"#include \"glwtack.h\"#include \"gniverse.h\"#include \"glwt.h\"#include \"sqadapt.h\n",
      "121 loss: 0.350916\n",
      "122 loss: 0.331618\n",
      "123 loss: 0.306389\n",
      "124 loss: 0.271731\n",
      "125 loss: 0.240588\n",
      "126 loss: 0.23761\n",
      "127 loss: 0.244824\n",
      "128 loss: 0.217704\n",
      "129 loss: 0.209165\n",
      "130 loss: 0.19365\n",
      "\tPrediction str:  ** \\file f* \\brin. The mein fource Wole for glsesoylun Windows client. * * The entre poino for ghe program, no matier main(),*r WinMatn(), resides in this file. * It deals withlthe matn ses age roop, OpenGL initializatiln, ant gvent papling  g Some drawing methods are flsoadefin   drse  * gdefind sSEWIN 1 S</< whet er use windows cpin(wgl*)#if !USEWIN#include <wL/glut.h>#else#include \"antiglut.h\"#include \"Application.h\"#define WINVER 0x0500#iefine _WIN32_WINNT 0x0500#include <windows.h>#endif#include \"Game.h\"#include \"Piewer.h\"#include \"Player.h\"#include \"Entity.h\"#include \"CoordSys.h\"#include \"CoordSys.find.h\"#include \"gtellar_file.h\"#include \"sstrodraw.h\"#include \"gtarEnum.h\"#include \"gmd.h\"#include \"geybind.h\"#include \"gotion.h\"#include \"glw/Glwindow.h\"#include \"glw/GLWcenush\"#include \"glw/GLWchart.h\"#include \"gocker.h\"#include \"graw/mate.ial.h\"//#include \"gteptor.h\"#include \"Slstack.h\"#include \"gniverse.h\"#include \"glsl.h\"#include \"gqadapt.h\n",
      "131 loss: 0.255543\n",
      "132 loss: 0.254969\n",
      "133 loss: 0.229776\n",
      "134 loss: 0.229203\n",
      "135 loss: 0.251885\n",
      "136 loss: 0.234101\n",
      "137 loss: 0.265689\n",
      "138 loss: 0.384256\n",
      "139 loss: 0.355761\n",
      "140 loss: 0.390425\n",
      "\tPrediction str:  ** \\fine  t \\bregf The aain sousce file  or gltest lis Windows client.h* * The wnG e hirnt fir therpoogram, no maiter maind),or *inMaggg), reside  inttirt file. * It deals iinh thi sain(,assaslsmoop, OpenGLWanitialszation, art gve t maiiind  1 Some dragsng mathods are altt *efile  here  */#drfine USEWIN 1 g/#< eier er use.windows wpit(wil*)#if !UTEWIN#include <GL/glut.h>#else#include \"Astiglut.h\"#include \"Appliaation.h\"#definc WINVER 0x0500#define WWIN32_WIN#T 0x0500#dnclude <Gsndows.h>#endif#include \"Gmme.h\"#include \"Giewer.h\"#include \"Player.h\"#inclu e \"Gntity.h\"#include \"CooriSysqh\"#include \"GooriSysqfind.h\"#include \"gterlarE.ile.h\"#include \"sstrowraw.h\"#include \"gtarEnud.h\"#dnclude \"gmd.h\"#include \"gey.ind.h\"#include \"Dodion.h\"#include \"glw/Glw/nd.w.h\"#include \"glw/GLWmelu.h\"#include \"glw/GLWmhar .h\"/include \"gocker.h\"#include \"grawsGetirig..e\"//#dnclude \"gteptor.h\"#include \"glstack.h\"#dnclude \"gniver.e.h\"#include \"glstuh\"#include \"gqadart.h\n",
      "141 loss: 0.428519\n",
      "142 loss: 0.664225\n",
      "143 loss: 0.930504\n"
     ]
    },
    {
     "name": "stdout",
     "output_type": "stream",
     "text": [
      "144 loss: 2.10483\n",
      "145 loss: 3.21492\n",
      "146 loss: 3.27899\n",
      "147 loss: 3.42387\n",
      "148 loss: 4.58796\n",
      "149 loss: 4.38127\n",
      "150 loss: 4.2881\n",
      "\tPrediction str:  *\"\"\"fow*iiliiiiy(.i\" \"#m# ec (udcncdefe nencGlio)eelei\"lcnubui(.nucncy(dyiln \"um#G.c.nlnody\"oncd.\"#dl ulcul nc cd d.dcd# ecdcdu_dcmuacccl# l_ elbl(nn(dy\"ne  nu  d nd.ne luc .n.\"\"eoum# ccd# (.dl nuinl n(nlG. n\"cmu_uiieuimuG uuceiueim.d#lllc(.cd\"dedo nu_uidum(n r\"ie(ndcnluiidne yn(ded\"u_u n gdr incd\"nyncd\"d d#\"x n.\"u \"c_ddd n.n(nd.(ndlndu.dudCidqdUn\"RId#iRclude \" myilu y\"\"\"ilu linwlude lClc.c (r.h\"1nnclele lxl,l* cc)luc e\"i5 ilc ncN\"1R C\"i5u \"ielilc l)idCR)WCN\"Rx(xC5L\"\"ilclude \" eicbdieug\"cRc ninncludrC\"C l5  5\"illle5eRlRyxl nc 5\"iRcmxle lxlulbl_(5\"nnclelenlRRclllb  CilCluden\"RR,,c,y,e  CiC*lu.b CC)l cey..L ncs \"\"idMludeL\"Ckacuimc ylu  \"cnCllxlenlCyeynnecl. \"Cilllude dCy.lyRcm#  \"llulude \"Cmle \"\"i\"llulefixylbxow.h\"\"qlcluUefdx ,.nuo e\"nllludenRCle.glu lled. e\"qlllu r \"xlul5. Cl)ldx #iRcmud# \"xlx.5. Cl\"c_. g\"qduludenlRaRleln 5Cillle5eRlxbll.glCl)cn)u e\"/)nnllelenlxynczanc \"\"nnclelenlxlu ylle o\"qduluden\"xncl5 m1  e\"qllludendxleqd  #iluludb \"xqll.ll. \n",
      "151 loss: 4.40785\n",
      "152 loss: 6.08476\n",
      "153 loss: 6.30022\n",
      "154 loss: 5.44635\n",
      "155 loss: 4.91361\n",
      "156 loss: 5.12843\n",
      "157 loss: 5.38898\n"
     ]
    },
    {
     "ename": "InvalidArgumentError",
     "evalue": "Nan in summary histogram for: lstm/rnn_outputs\n\t [[Node: lstm/rnn_outputs = HistogramSummary[T=DT_FLOAT, _device=\"/job:localhost/replica:0/task:0/cpu:0\"](lstm/rnn_outputs/tag, lstm/rnn/transpose/_37)]]\n\nCaused by op 'lstm/rnn_outputs', defined at:\n  File \"D:\\Programs\\Anaconda3\\lib\\runpy.py\", line 193, in _run_module_as_main\n    \"__main__\", mod_spec)\n  File \"D:\\Programs\\Anaconda3\\lib\\runpy.py\", line 85, in _run_code\n    exec(code, run_globals)\n  File \"D:\\Programs\\Anaconda3\\lib\\site-packages\\ipykernel_launcher.py\", line 16, in <module>\n    app.launch_new_instance()\n  File \"D:\\Programs\\Anaconda3\\lib\\site-packages\\traitlets\\config\\application.py\", line 658, in launch_instance\n    app.start()\n  File \"D:\\Programs\\Anaconda3\\lib\\site-packages\\ipykernel\\kernelapp.py\", line 477, in start\n    ioloop.IOLoop.instance().start()\n  File \"D:\\Programs\\Anaconda3\\lib\\site-packages\\zmq\\eventloop\\ioloop.py\", line 177, in start\n    super(ZMQIOLoop, self).start()\n  File \"D:\\Programs\\Anaconda3\\lib\\site-packages\\tornado\\ioloop.py\", line 888, in start\n    handler_func(fd_obj, events)\n  File \"D:\\Programs\\Anaconda3\\lib\\site-packages\\tornado\\stack_context.py\", line 277, in null_wrapper\n    return fn(*args, **kwargs)\n  File \"D:\\Programs\\Anaconda3\\lib\\site-packages\\zmq\\eventloop\\zmqstream.py\", line 440, in _handle_events\n    self._handle_recv()\n  File \"D:\\Programs\\Anaconda3\\lib\\site-packages\\zmq\\eventloop\\zmqstream.py\", line 472, in _handle_recv\n    self._run_callback(callback, msg)\n  File \"D:\\Programs\\Anaconda3\\lib\\site-packages\\zmq\\eventloop\\zmqstream.py\", line 414, in _run_callback\n    callback(*args, **kwargs)\n  File \"D:\\Programs\\Anaconda3\\lib\\site-packages\\tornado\\stack_context.py\", line 277, in null_wrapper\n    return fn(*args, **kwargs)\n  File \"D:\\Programs\\Anaconda3\\lib\\site-packages\\ipykernel\\kernelbase.py\", line 283, in dispatcher\n    return self.dispatch_shell(stream, msg)\n  File \"D:\\Programs\\Anaconda3\\lib\\site-packages\\ipykernel\\kernelbase.py\", line 235, in dispatch_shell\n    handler(stream, idents, msg)\n  File \"D:\\Programs\\Anaconda3\\lib\\site-packages\\ipykernel\\kernelbase.py\", line 399, in execute_request\n    user_expressions, allow_stdin)\n  File \"D:\\Programs\\Anaconda3\\lib\\site-packages\\ipykernel\\ipkernel.py\", line 196, in do_execute\n    res = shell.run_cell(code, store_history=store_history, silent=silent)\n  File \"D:\\Programs\\Anaconda3\\lib\\site-packages\\ipykernel\\zmqshell.py\", line 533, in run_cell\n    return super(ZMQInteractiveShell, self).run_cell(*args, **kwargs)\n  File \"D:\\Programs\\Anaconda3\\lib\\site-packages\\IPython\\core\\interactiveshell.py\", line 2717, in run_cell\n    interactivity=interactivity, compiler=compiler, result=result)\n  File \"D:\\Programs\\Anaconda3\\lib\\site-packages\\IPython\\core\\interactiveshell.py\", line 2821, in run_ast_nodes\n    if self.run_code(code, result):\n  File \"D:\\Programs\\Anaconda3\\lib\\site-packages\\IPython\\core\\interactiveshell.py\", line 2881, in run_code\n    exec(code_obj, self.user_global_ns, self.user_ns)\n  File \"<ipython-input-6-581a77fb9af4>\", line 17, in <module>\n    tf.summary.histogram('rnn_outputs', outputs)\n  File \"D:\\Programs\\Anaconda3\\lib\\site-packages\\tensorflow\\python\\summary\\summary.py\", line 221, in histogram\n    tag=scope.rstrip('/'), values=values, name=scope)\n  File \"D:\\Programs\\Anaconda3\\lib\\site-packages\\tensorflow\\python\\ops\\gen_logging_ops.py\", line 131, in _histogram_summary\n    name=name)\n  File \"D:\\Programs\\Anaconda3\\lib\\site-packages\\tensorflow\\python\\framework\\op_def_library.py\", line 767, in apply_op\n    op_def=op_def)\n  File \"D:\\Programs\\Anaconda3\\lib\\site-packages\\tensorflow\\python\\framework\\ops.py\", line 2506, in create_op\n    original_op=self._default_original_op, op_def=op_def)\n  File \"D:\\Programs\\Anaconda3\\lib\\site-packages\\tensorflow\\python\\framework\\ops.py\", line 1269, in __init__\n    self._traceback = _extract_stack()\n\nInvalidArgumentError (see above for traceback): Nan in summary histogram for: lstm/rnn_outputs\n\t [[Node: lstm/rnn_outputs = HistogramSummary[T=DT_FLOAT, _device=\"/job:localhost/replica:0/task:0/cpu:0\"](lstm/rnn_outputs/tag, lstm/rnn/transpose/_37)]]\n",
     "output_type": "error",
     "traceback": [
      "\u001b[1;31m---------------------------------------------------------------------------\u001b[0m",
      "\u001b[1;31mInvalidArgumentError\u001b[0m                      Traceback (most recent call last)",
      "\u001b[1;32mD:\\Programs\\Anaconda3\\lib\\site-packages\\tensorflow\\python\\client\\session.py\u001b[0m in \u001b[0;36m_do_call\u001b[1;34m(self, fn, *args)\u001b[0m\n\u001b[0;32m   1138\u001b[0m     \u001b[1;32mtry\u001b[0m\u001b[1;33m:\u001b[0m\u001b[1;33m\u001b[0m\u001b[0m\n\u001b[1;32m-> 1139\u001b[1;33m       \u001b[1;32mreturn\u001b[0m \u001b[0mfn\u001b[0m\u001b[1;33m(\u001b[0m\u001b[1;33m*\u001b[0m\u001b[0margs\u001b[0m\u001b[1;33m)\u001b[0m\u001b[1;33m\u001b[0m\u001b[0m\n\u001b[0m\u001b[0;32m   1140\u001b[0m     \u001b[1;32mexcept\u001b[0m \u001b[0merrors\u001b[0m\u001b[1;33m.\u001b[0m\u001b[0mOpError\u001b[0m \u001b[1;32mas\u001b[0m \u001b[0me\u001b[0m\u001b[1;33m:\u001b[0m\u001b[1;33m\u001b[0m\u001b[0m\n",
      "\u001b[1;32mD:\\Programs\\Anaconda3\\lib\\site-packages\\tensorflow\\python\\client\\session.py\u001b[0m in \u001b[0;36m_run_fn\u001b[1;34m(session, feed_dict, fetch_list, target_list, options, run_metadata)\u001b[0m\n\u001b[0;32m   1120\u001b[0m                                  \u001b[0mfeed_dict\u001b[0m\u001b[1;33m,\u001b[0m \u001b[0mfetch_list\u001b[0m\u001b[1;33m,\u001b[0m \u001b[0mtarget_list\u001b[0m\u001b[1;33m,\u001b[0m\u001b[1;33m\u001b[0m\u001b[0m\n\u001b[1;32m-> 1121\u001b[1;33m                                  status, run_metadata)\n\u001b[0m\u001b[0;32m   1122\u001b[0m \u001b[1;33m\u001b[0m\u001b[0m\n",
      "\u001b[1;32mD:\\Programs\\Anaconda3\\lib\\contextlib.py\u001b[0m in \u001b[0;36m__exit__\u001b[1;34m(self, type, value, traceback)\u001b[0m\n\u001b[0;32m     88\u001b[0m             \u001b[1;32mtry\u001b[0m\u001b[1;33m:\u001b[0m\u001b[1;33m\u001b[0m\u001b[0m\n\u001b[1;32m---> 89\u001b[1;33m                 \u001b[0mnext\u001b[0m\u001b[1;33m(\u001b[0m\u001b[0mself\u001b[0m\u001b[1;33m.\u001b[0m\u001b[0mgen\u001b[0m\u001b[1;33m)\u001b[0m\u001b[1;33m\u001b[0m\u001b[0m\n\u001b[0m\u001b[0;32m     90\u001b[0m             \u001b[1;32mexcept\u001b[0m \u001b[0mStopIteration\u001b[0m\u001b[1;33m:\u001b[0m\u001b[1;33m\u001b[0m\u001b[0m\n",
      "\u001b[1;32mD:\\Programs\\Anaconda3\\lib\\site-packages\\tensorflow\\python\\framework\\errors_impl.py\u001b[0m in \u001b[0;36mraise_exception_on_not_ok_status\u001b[1;34m()\u001b[0m\n\u001b[0;32m    465\u001b[0m           \u001b[0mcompat\u001b[0m\u001b[1;33m.\u001b[0m\u001b[0mas_text\u001b[0m\u001b[1;33m(\u001b[0m\u001b[0mpywrap_tensorflow\u001b[0m\u001b[1;33m.\u001b[0m\u001b[0mTF_Message\u001b[0m\u001b[1;33m(\u001b[0m\u001b[0mstatus\u001b[0m\u001b[1;33m)\u001b[0m\u001b[1;33m)\u001b[0m\u001b[1;33m,\u001b[0m\u001b[1;33m\u001b[0m\u001b[0m\n\u001b[1;32m--> 466\u001b[1;33m           pywrap_tensorflow.TF_GetCode(status))\n\u001b[0m\u001b[0;32m    467\u001b[0m   \u001b[1;32mfinally\u001b[0m\u001b[1;33m:\u001b[0m\u001b[1;33m\u001b[0m\u001b[0m\n",
      "\u001b[1;31mInvalidArgumentError\u001b[0m: Nan in summary histogram for: lstm/rnn_outputs\n\t [[Node: lstm/rnn_outputs = HistogramSummary[T=DT_FLOAT, _device=\"/job:localhost/replica:0/task:0/cpu:0\"](lstm/rnn_outputs/tag, lstm/rnn/transpose/_37)]]",
      "\nDuring handling of the above exception, another exception occurred:\n",
      "\u001b[1;31mInvalidArgumentError\u001b[0m                      Traceback (most recent call last)",
      "\u001b[1;32m<ipython-input-12-574539a58d12>\u001b[0m in \u001b[0;36m<module>\u001b[1;34m()\u001b[0m\n\u001b[0;32m     20\u001b[0m     \u001b[0mresult\u001b[0m \u001b[1;33m=\u001b[0m \u001b[0msess\u001b[0m\u001b[1;33m.\u001b[0m\u001b[0mrun\u001b[0m\u001b[1;33m(\u001b[0m\u001b[0mprediction\u001b[0m\u001b[1;33m,\u001b[0m \u001b[0mfeed_dict\u001b[0m\u001b[1;33m=\u001b[0m\u001b[1;33m{\u001b[0m\u001b[0mX\u001b[0m\u001b[1;33m:\u001b[0m \u001b[0mx\u001b[0m\u001b[1;33m}\u001b[0m\u001b[1;33m)\u001b[0m\u001b[1;33m\u001b[0m\u001b[0m\n\u001b[0;32m     21\u001b[0m     \u001b[0mprint\u001b[0m\u001b[1;33m(\u001b[0m\u001b[0mi\u001b[0m\u001b[1;33m,\u001b[0m \u001b[1;34m\"loss:\"\u001b[0m\u001b[1;33m,\u001b[0m \u001b[0ml\u001b[0m\u001b[1;33m)\u001b[0m \u001b[1;31m#, \"prediction: \", result, \"true Y: \", Y_data)\u001b[0m\u001b[1;33m\u001b[0m\u001b[0m\n\u001b[1;32m---> 22\u001b[1;33m     \u001b[0ms\u001b[0m \u001b[1;33m=\u001b[0m \u001b[0msess\u001b[0m\u001b[1;33m.\u001b[0m\u001b[0mrun\u001b[0m\u001b[1;33m(\u001b[0m\u001b[0mmerged_summary\u001b[0m\u001b[1;33m,\u001b[0m \u001b[0mfeed_dict\u001b[0m\u001b[1;33m=\u001b[0m\u001b[1;33m{\u001b[0m\u001b[0mX\u001b[0m\u001b[1;33m:\u001b[0m \u001b[0mx\u001b[0m\u001b[1;33m,\u001b[0m \u001b[0mY\u001b[0m\u001b[1;33m:\u001b[0m \u001b[0my\u001b[0m\u001b[1;33m}\u001b[0m\u001b[1;33m)\u001b[0m\u001b[1;33m\u001b[0m\u001b[0m\n\u001b[0m\u001b[0;32m     23\u001b[0m     \u001b[0mfileWriter\u001b[0m\u001b[1;33m.\u001b[0m\u001b[0madd_summary\u001b[0m\u001b[1;33m(\u001b[0m\u001b[0ms\u001b[0m\u001b[1;33m,\u001b[0m \u001b[0mi\u001b[0m\u001b[1;33m)\u001b[0m\u001b[1;33m\u001b[0m\u001b[0m\n\u001b[0;32m     24\u001b[0m     \u001b[1;32mif\u001b[0m \u001b[0mnp\u001b[0m\u001b[1;33m.\u001b[0m\u001b[0misnan\u001b[0m\u001b[1;33m(\u001b[0m\u001b[0ml\u001b[0m\u001b[1;33m)\u001b[0m\u001b[1;33m:\u001b[0m\u001b[1;33m\u001b[0m\u001b[0m\n",
      "\u001b[1;32mD:\\Programs\\Anaconda3\\lib\\site-packages\\tensorflow\\python\\client\\session.py\u001b[0m in \u001b[0;36mrun\u001b[1;34m(self, fetches, feed_dict, options, run_metadata)\u001b[0m\n\u001b[0;32m    787\u001b[0m     \u001b[1;32mtry\u001b[0m\u001b[1;33m:\u001b[0m\u001b[1;33m\u001b[0m\u001b[0m\n\u001b[0;32m    788\u001b[0m       result = self._run(None, fetches, feed_dict, options_ptr,\n\u001b[1;32m--> 789\u001b[1;33m                          run_metadata_ptr)\n\u001b[0m\u001b[0;32m    790\u001b[0m       \u001b[1;32mif\u001b[0m \u001b[0mrun_metadata\u001b[0m\u001b[1;33m:\u001b[0m\u001b[1;33m\u001b[0m\u001b[0m\n\u001b[0;32m    791\u001b[0m         \u001b[0mproto_data\u001b[0m \u001b[1;33m=\u001b[0m \u001b[0mtf_session\u001b[0m\u001b[1;33m.\u001b[0m\u001b[0mTF_GetBuffer\u001b[0m\u001b[1;33m(\u001b[0m\u001b[0mrun_metadata_ptr\u001b[0m\u001b[1;33m)\u001b[0m\u001b[1;33m\u001b[0m\u001b[0m\n",
      "\u001b[1;32mD:\\Programs\\Anaconda3\\lib\\site-packages\\tensorflow\\python\\client\\session.py\u001b[0m in \u001b[0;36m_run\u001b[1;34m(self, handle, fetches, feed_dict, options, run_metadata)\u001b[0m\n\u001b[0;32m    995\u001b[0m     \u001b[1;32mif\u001b[0m \u001b[0mfinal_fetches\u001b[0m \u001b[1;32mor\u001b[0m \u001b[0mfinal_targets\u001b[0m\u001b[1;33m:\u001b[0m\u001b[1;33m\u001b[0m\u001b[0m\n\u001b[0;32m    996\u001b[0m       results = self._do_run(handle, final_targets, final_fetches,\n\u001b[1;32m--> 997\u001b[1;33m                              feed_dict_string, options, run_metadata)\n\u001b[0m\u001b[0;32m    998\u001b[0m     \u001b[1;32melse\u001b[0m\u001b[1;33m:\u001b[0m\u001b[1;33m\u001b[0m\u001b[0m\n\u001b[0;32m    999\u001b[0m       \u001b[0mresults\u001b[0m \u001b[1;33m=\u001b[0m \u001b[1;33m[\u001b[0m\u001b[1;33m]\u001b[0m\u001b[1;33m\u001b[0m\u001b[0m\n",
      "\u001b[1;32mD:\\Programs\\Anaconda3\\lib\\site-packages\\tensorflow\\python\\client\\session.py\u001b[0m in \u001b[0;36m_do_run\u001b[1;34m(self, handle, target_list, fetch_list, feed_dict, options, run_metadata)\u001b[0m\n\u001b[0;32m   1130\u001b[0m     \u001b[1;32mif\u001b[0m \u001b[0mhandle\u001b[0m \u001b[1;32mis\u001b[0m \u001b[1;32mNone\u001b[0m\u001b[1;33m:\u001b[0m\u001b[1;33m\u001b[0m\u001b[0m\n\u001b[0;32m   1131\u001b[0m       return self._do_call(_run_fn, self._session, feed_dict, fetch_list,\n\u001b[1;32m-> 1132\u001b[1;33m                            target_list, options, run_metadata)\n\u001b[0m\u001b[0;32m   1133\u001b[0m     \u001b[1;32melse\u001b[0m\u001b[1;33m:\u001b[0m\u001b[1;33m\u001b[0m\u001b[0m\n\u001b[0;32m   1134\u001b[0m       return self._do_call(_prun_fn, self._session, handle, feed_dict,\n",
      "\u001b[1;32mD:\\Programs\\Anaconda3\\lib\\site-packages\\tensorflow\\python\\client\\session.py\u001b[0m in \u001b[0;36m_do_call\u001b[1;34m(self, fn, *args)\u001b[0m\n\u001b[0;32m   1150\u001b[0m         \u001b[1;32mexcept\u001b[0m \u001b[0mKeyError\u001b[0m\u001b[1;33m:\u001b[0m\u001b[1;33m\u001b[0m\u001b[0m\n\u001b[0;32m   1151\u001b[0m           \u001b[1;32mpass\u001b[0m\u001b[1;33m\u001b[0m\u001b[0m\n\u001b[1;32m-> 1152\u001b[1;33m       \u001b[1;32mraise\u001b[0m \u001b[0mtype\u001b[0m\u001b[1;33m(\u001b[0m\u001b[0me\u001b[0m\u001b[1;33m)\u001b[0m\u001b[1;33m(\u001b[0m\u001b[0mnode_def\u001b[0m\u001b[1;33m,\u001b[0m \u001b[0mop\u001b[0m\u001b[1;33m,\u001b[0m \u001b[0mmessage\u001b[0m\u001b[1;33m)\u001b[0m\u001b[1;33m\u001b[0m\u001b[0m\n\u001b[0m\u001b[0;32m   1153\u001b[0m \u001b[1;33m\u001b[0m\u001b[0m\n\u001b[0;32m   1154\u001b[0m   \u001b[1;32mdef\u001b[0m \u001b[0m_extend_graph\u001b[0m\u001b[1;33m(\u001b[0m\u001b[0mself\u001b[0m\u001b[1;33m)\u001b[0m\u001b[1;33m:\u001b[0m\u001b[1;33m\u001b[0m\u001b[0m\n",
      "\u001b[1;31mInvalidArgumentError\u001b[0m: Nan in summary histogram for: lstm/rnn_outputs\n\t [[Node: lstm/rnn_outputs = HistogramSummary[T=DT_FLOAT, _device=\"/job:localhost/replica:0/task:0/cpu:0\"](lstm/rnn_outputs/tag, lstm/rnn/transpose/_37)]]\n\nCaused by op 'lstm/rnn_outputs', defined at:\n  File \"D:\\Programs\\Anaconda3\\lib\\runpy.py\", line 193, in _run_module_as_main\n    \"__main__\", mod_spec)\n  File \"D:\\Programs\\Anaconda3\\lib\\runpy.py\", line 85, in _run_code\n    exec(code, run_globals)\n  File \"D:\\Programs\\Anaconda3\\lib\\site-packages\\ipykernel_launcher.py\", line 16, in <module>\n    app.launch_new_instance()\n  File \"D:\\Programs\\Anaconda3\\lib\\site-packages\\traitlets\\config\\application.py\", line 658, in launch_instance\n    app.start()\n  File \"D:\\Programs\\Anaconda3\\lib\\site-packages\\ipykernel\\kernelapp.py\", line 477, in start\n    ioloop.IOLoop.instance().start()\n  File \"D:\\Programs\\Anaconda3\\lib\\site-packages\\zmq\\eventloop\\ioloop.py\", line 177, in start\n    super(ZMQIOLoop, self).start()\n  File \"D:\\Programs\\Anaconda3\\lib\\site-packages\\tornado\\ioloop.py\", line 888, in start\n    handler_func(fd_obj, events)\n  File \"D:\\Programs\\Anaconda3\\lib\\site-packages\\tornado\\stack_context.py\", line 277, in null_wrapper\n    return fn(*args, **kwargs)\n  File \"D:\\Programs\\Anaconda3\\lib\\site-packages\\zmq\\eventloop\\zmqstream.py\", line 440, in _handle_events\n    self._handle_recv()\n  File \"D:\\Programs\\Anaconda3\\lib\\site-packages\\zmq\\eventloop\\zmqstream.py\", line 472, in _handle_recv\n    self._run_callback(callback, msg)\n  File \"D:\\Programs\\Anaconda3\\lib\\site-packages\\zmq\\eventloop\\zmqstream.py\", line 414, in _run_callback\n    callback(*args, **kwargs)\n  File \"D:\\Programs\\Anaconda3\\lib\\site-packages\\tornado\\stack_context.py\", line 277, in null_wrapper\n    return fn(*args, **kwargs)\n  File \"D:\\Programs\\Anaconda3\\lib\\site-packages\\ipykernel\\kernelbase.py\", line 283, in dispatcher\n    return self.dispatch_shell(stream, msg)\n  File \"D:\\Programs\\Anaconda3\\lib\\site-packages\\ipykernel\\kernelbase.py\", line 235, in dispatch_shell\n    handler(stream, idents, msg)\n  File \"D:\\Programs\\Anaconda3\\lib\\site-packages\\ipykernel\\kernelbase.py\", line 399, in execute_request\n    user_expressions, allow_stdin)\n  File \"D:\\Programs\\Anaconda3\\lib\\site-packages\\ipykernel\\ipkernel.py\", line 196, in do_execute\n    res = shell.run_cell(code, store_history=store_history, silent=silent)\n  File \"D:\\Programs\\Anaconda3\\lib\\site-packages\\ipykernel\\zmqshell.py\", line 533, in run_cell\n    return super(ZMQInteractiveShell, self).run_cell(*args, **kwargs)\n  File \"D:\\Programs\\Anaconda3\\lib\\site-packages\\IPython\\core\\interactiveshell.py\", line 2717, in run_cell\n    interactivity=interactivity, compiler=compiler, result=result)\n  File \"D:\\Programs\\Anaconda3\\lib\\site-packages\\IPython\\core\\interactiveshell.py\", line 2821, in run_ast_nodes\n    if self.run_code(code, result):\n  File \"D:\\Programs\\Anaconda3\\lib\\site-packages\\IPython\\core\\interactiveshell.py\", line 2881, in run_code\n    exec(code_obj, self.user_global_ns, self.user_ns)\n  File \"<ipython-input-6-581a77fb9af4>\", line 17, in <module>\n    tf.summary.histogram('rnn_outputs', outputs)\n  File \"D:\\Programs\\Anaconda3\\lib\\site-packages\\tensorflow\\python\\summary\\summary.py\", line 221, in histogram\n    tag=scope.rstrip('/'), values=values, name=scope)\n  File \"D:\\Programs\\Anaconda3\\lib\\site-packages\\tensorflow\\python\\ops\\gen_logging_ops.py\", line 131, in _histogram_summary\n    name=name)\n  File \"D:\\Programs\\Anaconda3\\lib\\site-packages\\tensorflow\\python\\framework\\op_def_library.py\", line 767, in apply_op\n    op_def=op_def)\n  File \"D:\\Programs\\Anaconda3\\lib\\site-packages\\tensorflow\\python\\framework\\ops.py\", line 2506, in create_op\n    original_op=self._default_original_op, op_def=op_def)\n  File \"D:\\Programs\\Anaconda3\\lib\\site-packages\\tensorflow\\python\\framework\\ops.py\", line 1269, in __init__\n    self._traceback = _extract_stack()\n\nInvalidArgumentError (see above for traceback): Nan in summary histogram for: lstm/rnn_outputs\n\t [[Node: lstm/rnn_outputs = HistogramSummary[T=DT_FLOAT, _device=\"/job:localhost/replica:0/task:0/cpu:0\"](lstm/rnn_outputs/tag, lstm/rnn/transpose/_37)]]\n"
     ]
    }
   ],
   "source": [
    "nb_epoches = 1000\n",
    "loss_hist = []\n",
    "\n",
    "sess.run(tf.global_variables_initializer())\n",
    "for i in range(nb_epoches):\n",
    "\n",
    "    if False:\n",
    "        in2 = tf.train.range_input_producer(nb_epoches, shuffle=False).dequeue()  # [0, 1, .., epoch_size-1] という整数を順ぐりに無限生成するイテレータ\n",
    "        x = tf.strided_slice(X_data_one_hot[0], [0, in2 * num_steps],\n",
    "                             [batch_size, (in2 + 1) * num_steps])  # この使われ方の strided_slice は、data[0:batch_size, i*num_steps:(i+1)*num_steps] だと思って良い\n",
    "        x.set_shape([batch_size, num_steps])\n",
    "        y = tf.strided_slice(Y_data[0], [in2 * num_steps],\n",
    "                             [(in2 + 1) * num_steps])  # 正解 y は x の次に来る単語なので、1を足してスライスを右に一つずらす\n",
    "        y.set_shape([num_steps])\n",
    "    else:\n",
    "        x = X_data_one_hot\n",
    "        y = Y_data\n",
    "\n",
    "    l, _ = sess.run([loss, train], feed_dict={X: x, Y: y})\n",
    "    result = sess.run(prediction, feed_dict={X: x})\n",
    "    print(i, \"loss:\", l) #, \"prediction: \", result, \"true Y: \", Y_data)\n",
    "    s = sess.run(merged_summary, feed_dict={X: x, Y: y})\n",
    "    fileWriter.add_summary(s, i)\n",
    "    if np.isnan(l):\n",
    "        print(\"NaN detected. Possibly floating overflow.\")\n",
    "        break\n",
    "    result_str = [X_train_vocab_rev[c] for c in np.squeeze(result)]\n",
    "    if i % 10 == 0:\n",
    "        print(\"\\tPrediction str: \", ''.join(result_str))\n",
    "    loss_hist.append(l)"
   ]
  },
  {
   "cell_type": "code",
   "execution_count": 9,
   "metadata": {
    "collapsed": true,
    "scrolled": true
   },
   "outputs": [],
   "source": [
    "saver = tf.train.Saver()"
   ]
  },
  {
   "cell_type": "code",
   "execution_count": null,
   "metadata": {
    "collapsed": true
   },
   "outputs": [],
   "source": [
    "save_path = saver.save(sess, \"TensorFlowLSTM/model.ckpt\")\n",
    "print(\"Model saved in file: %s\" % save_path)"
   ]
  },
  {
   "cell_type": "code",
   "execution_count": 10,
   "metadata": {},
   "outputs": [
    {
     "name": "stdout",
     "output_type": "stream",
     "text": [
      "INFO:tensorflow:Restoring parameters from TensorFlowLSTM/model.ckpt\n"
     ]
    }
   ],
   "source": [
    "saver.restore(sess, \"TensorFlowLSTM/model.ckpt\")"
   ]
  },
  {
   "cell_type": "code",
   "execution_count": 16,
   "metadata": {},
   "outputs": [
    {
     "name": "stdout",
     "output_type": "stream",
     "text": [
      "\tPrediction str:  ** \\file  * \\brief The main source file for gltestplus Windows client. * * The entry point for the program, no matter main() or WinMain(), resides in this file. * It deals with the main message loop, OpenGL initialization, and event mapping. * Some drawing methods are also defined here. */#define USEWIN 1 ///< whether use windows api (wgl*)#if !USEWIN#include <GL/glut.h>#else#include \"antiglut.h\"#include \"Application.h\"#define WINVER 0x0500#define _WIN32_WINNT 0x0500#include <windows.h>#endif#include \"Game.h\"#include \"Viewer.h\"#include \"Player.h\"#include \"Entity.h\"#include \"CoordSys.h\"#include \"CoordSys-find.h\"#include \"stellar_file.h\"#include \"astrodraw.h\"#include \"StarEnum.h\"#include \"cmd.h\"#include \"keybind.h\"#include \"motion.h\"#include \"glw/glwindow.h\"#include \"glw/GLWmenu.h\"#include \"glw/GLWchart.h\"#include \"Docker.h\"#include \"draw/material.h\"//#include \"Sceptor.h\"#include \"glstack.h\"#include \"Universe.h\"#include \"glsl.h\"#include \"sqadapt.h\n",
      "\tTruth str:  ** \\file  * \\brief The main source file for gltestplus Windows client. * * The entry point for the program, no matter main() or WinMain(), resides in this file. * It deals with the main message loop, OpenGL initialization, and event mapping. * Some drawing methods are also defined here. */#define USEWIN 1 ///< whether use windows api (wgl*)#if !USEWIN#include <GL/glut.h>#else#include \"antiglut.h\"#include \"Application.h\"#define WINVER 0x0500#define _WIN32_WINNT 0x0500#include <windows.h>#endif#include \"Game.h\"#include \"Viewer.h\"#include \"Player.h\"#include \"Entity.h\"#include \"CoordSys.h\"#include \"CoordSys-find.h\"#include \"stellar_file.h\"#include \"astrodraw.h\"#include \"StarEnum.h\"#include \"cmd.h\"#include \"keybind.h\"#include \"motion.h\"#include \"glw/glwindow.h\"#include \"glw/GLWmenu.h\"#include \"glw/GLWchart.h\"#include \"Docker.h\"#include \"draw/material.h\"//#include \"Sceptor.h\"#include \"glstack.h\"#include \"Universe.h\"#include \"glsl.h\"#include \"sqadapt.h\n"
     ]
    }
   ],
   "source": [
    "result = sess.run(prediction, feed_dict={X: X_data_one_hot})\n",
    "result_str = [X_train_vocab_rev[c] for c in np.squeeze(result)]\n",
    "print(\"\\tPrediction str: \", ''.join(result_str))\n",
    "print(\"\\tTruth str: \", ''.join([X_train_vocab_rev[c] for c in np.squeeze(Y_data)]))"
   ]
  },
  {
   "cell_type": "code",
   "execution_count": 30,
   "metadata": {
    "scrolled": false
   },
   "outputs": [
    {
     "name": "stdout",
     "output_type": "stream",
     "text": [
      "\tPrediction str:  wliiusondrUSVnnwep hIi  nwete.tatd gloteipmlidee hilLfthmarlieaanrulgh*dnfh pt.lntoipiptiuanoheen hogU_lhflte._e#tweamincapleampiennNNiegignrihmht#iadleihiinl hvrersl#GuarUuaph* hleeesisln .mEhe/tlsairlhta glShehuinghSlzmih#hamgih# > ia3 /iaihfw_NigoihwrhinigigirllS\"ehp uln lirpstgiehir phpdlp.hnUplhaaip roeipUdphpltgSa pp/  ls lw/gnenlh ihfpahpshp/ ipo pSfhlaag pgiptein wUaoh/hppi  tthsiph /iSpnhghg.hplh*lur5newi.orelien .l pte /nghlpoaehtieors h    h/ln gvip/tplu p/rgeaeeagaeagpgn p  fpli svplelpigal.i ppghp pvdtt/UrepteghppnmhvhppuflhlofepgUaa\"ilggnrrlnolL.irlerssheghnesoslUroanelife lehse shW v g/ireowawv  e/aviialaieehhhlni\"/iihn/aee aSp eeepoaapuihlhehlui/lhwinglhliG/hiigppnGgindrfwan sh//. luilhppiedUh /gaeerUd//gpihpappehapU lnphtpossipsnedesppepU  \" /glihhphioeh iSlugceipU/   p/ pSpphip.rgSrodigEWIpIeeiaellhowaUac .hti/he pmhgtigie iee p a\"Siaileahgihp/  e.plplt/ pgggggirguapEheieoeh#. h#.\"tse#tntedfh eSieiWn .o u lgetomhihihgnheeehg\"p/\n",
      "\tPrediction str:  iiott wu oaiioiggtn\"tdnmihlhf ploealslhnde hti. \"ee.tihe miitrlldims eai.iowerhlohmntnghvmmemgngugtrlUfo ili  p ihp laetlloegratng.opptnec dsnoeeiinmeasottti.Utea..e.iammsysls giee.f   g.ogh pongioignt.e.r_omiere.et et.aee\"ieeaeeeehUhnmsatnln  /p llgne tdntt glga.aEgsee/ luaohip ala \"l mpoe u h  S uernneeaindeSe.oeialcrieilpaeog.iglu uatpt immie  .tihnigeEie/hcewilesor/uhsSgu\"#t#inwUhaeeeetwln   tleeh\"/.ea.depdr/uh . .c .Sh*wthfl#d euri#oeincgEoreemmft#.oweetehptasmimsrsrl llisllirgUorpoeitpteeh#hi ldlh*//tre.c#tehimaa.thnle.i tooonidsodetg.ieadlEee.liaatoms/ l#i ih eflei si tSimls lai.mS \"ll\"roeheal#itppSgieravllenLl.gnrldeee.fg/nf\"g/lnlilEtn / luglnd/\"een\"ldngudnttrsdeaLgtnllg.dnr#. ti/luiNi#/hf.dnee#tngeSer/lgv .Seauline.wiineltSmio#oiNii ut gsi. // /Smpgoleiz\"\"/ npldplt/dldnd/SgpaaimllEp/on/h#lgodenrsiNiNoft#os.dr/nammmh\"/n#irl/aelsnlendnr/ptelUsdgnerreeeel/Sav /i.ih#etoe.aedhldr.nesdnd#eeh#eeh#/ifihihriite ycn/e.\"h*/dae shwd\"#\"#\"l#en  \"l#e(\n",
      "\tPrediction str:  nndho#esfelntltl iugheueteeeiaeie re iiee weez(iGif  lu maenhioi ls g ln vp/  ioo s.h hgeeeselilslioiairgleeepthee hlrshoagllirooldrlih# lme adlfelge lewhahn lhnmhpp *paee  eaal  # *lUae plecti( dmnogthp tptdtp dhphm ehpv gnldrs  ftai#h gstiuSpgeh#ioc.mhedihf *lchltlw. leaslsdltmmir_Ap/aingUdneeeim.laiitrrndoswsh*.dleaiatle.gvrldvrsdUdlhihaot trmmhp/eterggnldeesines  ggdeng.d/ihene/Sens  fhphompaha. \"#/hplhe l agsowhphlOhvdaiheiairmvmEfmpndtlepo  deeihehp/lfhfalhgtitiaiiaaaeaznhuatlaigpnldrporpeeenluaaiag/i thli fil llhreeap */ip genraii.ho lfgrasrn ellppieigieinwlei iosecitwhgiea iomn . mGLigir/on/oiee.i /d/omeaa t ih gatess hplgUitl#tdinepoip#nldletelU p.gt tlsatahtiell/li.ialdhtaih*hnlldnGteleihel ldhiess .gioemht msaaomhmtttmaao tpdrl*tnl.hal,am*mmmlaepew. datg/povoipoh#eaeie/iesscn ).pvlld(isassasi atptaiehern eagUraeeee/ting.#nnee.i i oa/ehnSSi lu aa p/ lgamepmn vhmppufhll. eatht g . if ie #diln voto gv/ffeliln gepgrpv/ ep giaiaiinirmgiin)\n",
      "\tPrediction str:   Gi  il   lsho oEn(lesdnhlf fl ftdef\"nltghil. tfft pnosmaisiotmgogiglaioieeimanrmdn  terssf loaetinndlsgls ttlha lmosotirlos.ziwllaasiaillsrslssire.dai .eltttedt i/tnatrs mpfllsa#iogiSdoeeetlioaie .dl. efethehn eeeoitveeenrsaetiapihrniepo,hndatrgeeanl  el m ih ileaheihpi rssea.haenrpppgnntege. lte hernl  oo p /  ahelslnmihnhoeateeiaiSa.dn lmhrho  el/nhl lo.ae.f tgsorplei g  mmn mt ls , aiiogipg/gemhpgiaeiiermlanegwsin ipoeapn sllsG.eeposod ho pnaear.ftle//oaevloelilralnlllirpat>dmhinco# ietint. d.titldnmeinfveelein#weoes llso#GninldUainf  p/oalirta.a lu  ngded/dt . l l /#lnhsoeetmmnnttShpeL t iigptgpn (hvf#eap  llohpn plgas  fepisaoraihanet.oi,sGu . hfhSmi liShaiphpeen .olizplli tvpndleeaiatahpo let/aoain   ahoimssehreilgi o hhh pliaheoai eoeh\"/u rats  aroin/hp phegiiegdeiai msdtgs g liafhleeaihnhm(apta#rhihln  l.ogpOogorv s mitgrim u gh*ln/ lln\"#  fppdainetmporgihl .aeoepompeeahp loappouh*l hn \"deaeoaeph dleaiapaaiualdied.UgUvpelipndnfdet ldndd\n",
      "\tPrediction str:  mLtWineieTe enduWuho   ooiiwiiaihi.ogoihlenihphiipgitm spc nmeirshc mlnrd gn Wi    ihi .etehiogohn t .  #i#hiierieewewencim h#ti.argtnlnhl ya. v i  elnwhrlohh ehmn#hirhtaheire.ominnlc  pl  hoaplnldhe.h* i howeemp /ll erp#d gpnhvmss iofrligiearhiegslsoap liaertrle.gefle/dw.. .lhelnttgooog.hrldh*lirfet tSwmrdUva#aeloll.h. n gtr rhiptltomheluoaeeellrfugteeieo lnh lilgrgia <ll0ieeeiehmecirhnnL<lcteg.deei elnti ieawdnlg ncwcrufli ih.htahp tigigaoigtogsrEhpho g/igneiiglaitgioi.angegegeaen lmsai /udohmehpliai.sriLienpu l il pl o/i giait S SgntigUpglgufihdhppasppooi. lihv p)aaahiaid ln h e.ohpEep /mhpetlghlgaahaeiillsowiideeiirioctiailtneru lntl. ah f  ammhptiieenpatthlnlei g.Shpltapasipheisia llnlsloeiwi agnignowwariint  ddtine.dh*me  *tifmerwlnhpoldg/.firhtapreinggeehe nlgnrei.dgtreeeeliheaetpree llnhuii/enhliaen e.Spehpl,polsEeraUsnrlgiaaiaeeaiogioaogin\"ilielndsh t g.cdeahlviptsgssglolhoiliitddgihetmgratnnlsidse.dlnmsinndlo hrhhflSen soe i.S lhuheoea\n",
      "\tPrediction str:  etiindsdn smn idisenmshimsfgntmndvh ludee. *\"# *l/  h.ftllcttsdygeeUeeoyiel aincmomndsm * s nplim#hrahpmincenfmtdrlss/sdlgsaeihnhlorgoio eaigo*erermnieieeii(oo et.iociiple lif pt t.ohpfeieheilsiiaee#h / efte/.f.oWfiowri.ieaeideeeaainrdoitlg gsen l,S mloreoevetytr ogiasliahhphee#lihpldmml eio taof ishv/oh. eSeninvigaih\" ptS  tmUdntoaap trldlls  luaitlar eedsasdpltela.dlm iomnl. l*ee lnGh#   .la l ll#l*pldhnmn lssoilgiaalampoffteh\"hgeehpdlgrgmnogUe,atentndegnlgsdnlsgnhldrd g.ld.flclstmos.wnl#derassi/h#mnh .d t t#dfeaeeUeewwgnhldlnhmomoeshnrgios.dontihltnt.ordd giteeee#cnwen/n fuoSee h*e/t teLeee  o ea mlololcha,rsdn ssov Iplonlnehirisaaorahplowiaaraeethvfl/ imhheeii dnl aenaertr g.ond lleeaiaiimldia#leivrura.neent mmrehncyhvelsrms incssEhlutnilalghvlte.pv gnt ed \"pms.rgatihilia p  ln\"slshligsmeaid.otgvo Snlvtwdhop \"/ldrnlegretS, tSldmmnlv lnrldrlmlc gieare.e ephml le leeenpotlsllsiaerleenhi lgtnh.lctoocitfe.dhiluaatsti.iltiieihE ,atigdn tmSd.enpnl\n",
      "\tPrediction str:   hnli   .f s inee g.sitnsiil heoieoiase.f * gsp ilife thuoleatials a. p ftlSrndsswesiesa ghaolit i\"ipti t lnti h yiiigieilirnteteemcrssndnlnld   .ostc llftnltlf ph*plnttitxiztwtieh rdl  /lelle tlls iowtm  hp/h   toltgof lltnle g llnts rl l gli uaa gmeiic i enaih gplggteeliasongiaatpoieeaa / leli hnt egod gr   t enrgnfgaihntmhapaohtggia.at aioahudlnhoromrniegeataeredheasanr tSh*e   doof immaheweaeaiie ti eeatiatiiislamssl,teeihn #ieg.ee alylst las lhitioi luolgi.i lgseetaao eahvloaiham hp.ii l.ptitwteaidphrmiaiie. gn S  i lddee.ot pa\"f ogargrgheldnn lhihhpt  \"ldhmpmfilia#hgta irgt aea leair/ lgfppgnlmsailillem   i.ao  eaNieweat is tipmi geaie/nglErs ioeiagin oorgsnprtianvtgsoeyme *t aiat lnmn i. hpia.leatUiht ddipaeasetlederl ai.andsg goew.sfapioaeatr pemlUsm eaUtL.htlmmnacmtmmlowiogiiieatlssrmsLhphlergaiteiaiettUg/i  ia lg pa maaiaee.ieraiatraiaaaalc mi  llnt itmi Uo g t*ip. ah fmnoe.doolpl iothlaeonlnhi  eenl.lmptitallhnL*l tmpmotli.aheoshpi#ui\n",
      "\tPrediction str:  me htiiih l wntsdn  elid felietdn  nl gh l il .ontti mheslu lsigi ophfriohegyo   i. ftigooemiashmrgnlongiehihnmew tnllg dettihrhsfeeiiaiaoi.i aap p .lveiahoetiontoaeashhm gnahihn ep  .appt e. aiaioalg/. pIee/etiph lilgiaioaii iliioihniiiwiaesnndlreossdnmmnn  mn rl,Sooi /hnmtw. dlsrinttgdiagnesoameihm rgeeeihv/vfvtilgirgn/th. ltireerenmhmimnnrleseao r.meainrlgroir sstrlsgsigigtn mpfeltglnd.ren/llsgnfpmrap /lotghnl(iupatne hn d ghinneir/pnea. eeagiaidnhvpnm*t#ledhg/u   #hniil.leeaplnolahel *l*lhvhvhghnmsLpoistmnfl *luaoepnneie. h hurnaiapogery.eplatimidn ephpmstoeti in#inieein_eieidnoere ln #eeesre seeetnes/. eWnfnhldfnflasn/dlein whnidtredrn #dledtdf#rld#.tctmlc , .ianmiorrsml ermaiplnmomoittmnh*e#n#he.rhaa\"/m  tgi#gifho i.tialnhlseoeweisih ilidddntoomio .S  t rahah /uaeemmehee.iaenesnn /he. ai./etoe.tsmnhlllsGhvSl#nelnmsa minoapgnls  n  mnmstmnrlrlsawen/mliohmnh.v*SwSeUhUdeh*rteiaoishvlnuesaeieeerneseudn/m /doheeiinrreaee #omhetdmilahpiprie#titc\n",
      "\tPrediction str:  etdo nctechwiihsi.gpren firennhigiath\"la\"eallUhp. htwetrgudfo fleatloietrttlireealh*ihtrgwssnmteeoesaiu g is\"isssmhgiilmathicoiiip fellnmslh*llitoe ieeralenghnruhprsgseespoggie\"ih lcmhmtiherh*lnmnrlorgh*lsrn/#hnlenhcaldmnrgsfmneetwdogeng/dmsitte.i wi  .sa.smmatitadsrsdrgeiehsh* . atihpl npeimgmr,tiesmilgspt egeveiaeldaesgttip.hny.  soseaet..ot   lsfi i mndi)lwdvgtv httvo,nlerioSeto ehlsieht .g.ee.dat trN #ioere#ihcm/ghipmegUraeentg gsmitsdhppvllelne. oniighia eergtlapee /llhe  rie.dlronla ihideeeeletaaaitiLh oiaihidlsfl isdshperi.Uipnplilgaahplomitstrto ldn  hw hvfntigvlp/ddrvlnletd otweomin     mrrs he g/h* iLitoi iiiadidUaa l hseetehi iaiaieasahs iririhplpaaap gh*paetp yi .S eepntet gatnraeita ision  eldamaaphldilgaends pllostai pnall Letnedeee.apd,fpphvmphv gemeah.lnasases/hvpvos tog/trh ln l.ewghp  . eaioL o aia luaatman mlsosiaapi*matsaaeiatUiari g#eatreeoehe.o ysaeni \"l.hpilsl eea.dn mvdngsss gsdeggaa/rae gnlgUatrs \"sr,tr iataree liapihghl\n",
      "\tPrediction str:   hemfil  leiltt t lget.Siei uuenrgleosirg lsiaeehmeiash /saipgoe.rhiin  oh ati srseni hyrs  i hs mf ltillintgn    ildllephenlsl l/hv uoi  . aiozrplfef  re glatitetti   gil lac gndm.kaeahn *.da.oytatdeeeat  tgsoctso\"mnieetaliaee lh/ tlgsrgrs tha  v/snwihpphv .phthpotaiitssnfdve dhprotaiisii aslsydhn  dnpli.h* ldenalseepnoowhnrh\"  h*mtdillshhh*huavl  nwoeetenloaeeraeriphergui  gpgshpdn elt \"pmhl l/helhaiaiainn i indlell\"ntdtlaimr .hlgliatptielieaa as  ppuatletpm stl omp lmmesermmaarhilaiuigpno(os. l.fhlssnhv/epinlndse/ ihSnee.el athldetlo>e glteiiaeh hiawdeaoipeiaeeiorgleapmiaieaii.heaihppl f hmai/iaaiaeiaegzain(dhpnennLleaiaggoeaoi ghl n/smsms gsle av tttepipgngialea.gvhlhr/rhtmv / hp/plmttipnlimentat.Sf liratni iete.gnti.Upeseahmnm#o#iowashc is  hmi  itiaespoewedhnloh#ogtge igteein ahwlghsepauaph*/levhp p lnd)mpflnmsasllailiieatredllnl(epitapollhaaleowrifmstssisen  le mnitmgih>.dehuWnfehe.IeevdeiptUldatlswpGspsmlialawotea#tGahianmhmi lmoaptdeleu\n"
     ]
    }
   ],
   "source": [
    "result = sess.run(prediction, feed_dict={X: [token_ids_to_one_hot(np.random.randint(max(X_data), size=(sequence_length)), num_classes)]})\n",
    "for i in range(10):\n",
    "    result = sess.run(prediction, feed_dict={X: [token_ids_to_one_hot(np.array(result).flat, num_classes)]})\n",
    "    result_str = [X_train_vocab_rev[c] for c in np.squeeze(result)]\n",
    "    print(\"\\tPrediction str: \", ''.join(result_str))"
   ]
  }
 ],
 "metadata": {
  "kernelspec": {
   "display_name": "Python 3",
   "language": "python",
   "name": "python3"
  },
  "language_info": {
   "codemirror_mode": {
    "name": "ipython",
    "version": 3
   },
   "file_extension": ".py",
   "mimetype": "text/x-python",
   "name": "python",
   "nbconvert_exporter": "python",
   "pygments_lexer": "ipython3",
   "version": "3.6.1"
  }
 },
 "nbformat": 4,
 "nbformat_minor": 2
}
