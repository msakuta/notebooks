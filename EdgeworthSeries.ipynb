{
 "cells": [
  {
   "cell_type": "markdown",
   "metadata": {},
   "source": [
    "# Charlier Series\n",
    "\n",
    "From Wolfram Mathworld, http://mathworld.wolfram.com/CharlierSeries.html\n",
    "\n",
    "A class of formal series expansions in derivatives of a distribution $\\Psi(t)$ which may (but need not) be the normal distribution function\n",
    "\n",
    "$$\n",
    "\\Phi(t)=\\frac{1}{\\sqrt{2\\pi}} e^{-t^2/2}\n",
    "$$\n",
    "\n",
    "and moments or other measured parameters. Edgeworth series are known as the Charlier series or Gram-Charlier series.\n",
    "Let $\\psi(t)$ be the characteristic function of the function $\\Psi(t)$, and $\\gamma_r$ its cumulants. Similarly, let $F(t)$ be the distribution to be approximated,  $f(t)$ its characteristic function, and $\\kappa_r$ its cumulants. By definition, these quantities are connected by the formal series\n",
    "\n",
    "$$\n",
    "f(t)=\\exp\\left[\\sum_{r=1}^\\infty(\\kappa_r-\\gamma_r)\\frac{(it)^r}{r!}\\right] \\psi(t)\n",
    "$$\n",
    "\n",
    "(Wallace 1958). Integrating by parts gives $(it)^r \\psi(t)$ as the characteristic function of $(-1)^r \\Psi^{(r)}(x)$, so the formal identity corresponds pairwise to the identity\n",
    "\n",
    "$$\n",
    "F(x)=\\exp\\left[\\sum_{r=1}^\\infty(\\kappa_r-\\gamma_r) \\frac{(-D)^r}{r!}\\right] \\Psi(x), \n",
    "$$\n",
    "\n",
    "where D is the differential operator. The most important case $\\Psi(t)=\\Phi(t)$ was considered by Chebyshev (1890), Charlier (1905-06), and Edgeworth (1905).\n",
    "\n",
    "Expanding and collecting terms according to the order of the derivatives gives the so-called Gram-Charlier A-Series, which is identical to the formal expansion of $F-\\Psi$ in Hermite polynomials. The A-series converges for functions $F$ whose tails approach zero faster than  $\\Psi^{'1/2}$ (Cramér 1925, Wallace 1958, Szegö 1975)."
   ]
  },
  {
   "cell_type": "markdown",
   "metadata": {},
   "source": [
    "# Edgeworth Series\n",
    "\n",
    "From Wolfram Mathworld, http://mathworld.wolfram.com/EdgeworthSeries.html\n",
    "\n",
    "Let a distribution to be approximated be the distribution $F_n$ of standardized sums\n",
    "\n",
    "$$\n",
    "Y_n=\\frac{ \\sum_{i=1}^n (X_i-X)}{\\sqrt{\\sum_{i=1}^n \\sigma_X^2}}.\n",
    "$$\n",
    "\n",
    "In the Charlier series, take the component random variables identically distributed with mean $\\mu$, variance $\\sigma^2$, and higher cumulants $\\sigma^r \\lambda_r$ for $r>=3$.\n",
    "Also, take the developing function $\\Psi(t)$ as the standard normal distribution function $\\Phi(t)$, so we have\n",
    "\n",
    "\\begin{align}\n",
    "\\kappa_1-\\gamma_1\t&=\t0\t\\\\\n",
    "\\kappa_2-\\gamma_2\t&=\t0\t\\\\\n",
    "\\kappa_3-\\gamma_3\t&=\t\\frac{\\lambda^r}{n^{r/2-1}}.\n",
    "\\end{align}\n",
    "\n",
    "Then the Edgeworth series is obtained by collecting terms to obtain the asymptotic expansion of the characteristic function of the form\n",
    "\n",
    "$$\n",
    "f_n(t)=\\left[1+\\sum_{r=1}^\\infty \\frac{P_r(it)}{n^{r/2}}\\right]e^{-t^2/2}, \n",
    "$$\n",
    "\n",
    "where $P_r$ is a polynomial of degree $3r$ with coefficients depending on the cumulants of orders $3$ to $r+2$. If the powers of $\\Psi$ are interpreted as derivatives, then the distribution function expansion is given by\n",
    "\n",
    "$$\n",
    "F_n(x)=\\Psi(x)+\\sum_{r=1}^\\infty \\frac{P_r(-\\Phi(x))}{n^{r/2}}\n",
    "$$"
   ]
  },
  {
   "cell_type": "markdown",
   "metadata": {},
   "source": [
    "# Edgeworth Series from Wikipedia\n",
    "\n",
    "$$\n",
    "{\\displaystyle X_{n}={\\frac {1}{\\sqrt {n}}}\\sum _{i=1}^{n}{\\frac {Z_{i}-\\mu }{\\sigma }}.}\n",
    "$$\n",
    "\n",
    "Let $F_{n}$ denote the cumulative distribution functions of the variables $X_{n}$. Then by the central limit theorem,\n",
    "\n",
    "$$\n",
    "\\lim_{n\\to\\infty} F_n(x) = \\Phi(x) \\equiv \\int_{-\\infty}^x \\tfrac{1}{\\sqrt{2\\pi}}e^{-\\frac{1}{2}q^2}dq\n",
    "$$\n",
    "  \n",
    "for every $x$, as long as the mean and variance are finite.\n",
    "\n",
    "for every {\\displaystyle x} x, as long as the mean and variance are finite.\n",
    "\n",
    "Now assume that, in addition to having mean $\\mu$ and variance $\\sigma ^{2}$, the i.i.d. random variables $Z_{i}$\n",
    "have higher cumulants $\\displaystyle \\kappa _{r}$.\n",
    "From the additivity and homogeneity properties of cumulants, the cumulants of $X_{n}$ in terms of the cumulants of $Z_{i}$ are for $r \\geq 2$,\n",
    "\n",
    "$$\n",
    "{\\displaystyle \\kappa _{r}^{F_{n}}={\\frac {n\\kappa _{r}}{\\sigma ^{r}n^{r/2}}}={\\frac {\\lambda _{r}}{n^{r/2-1}}}\\quad \\mathrm {where} \\quad \\lambda _{r}={\\frac {\\kappa _{r}}{\\sigma ^{r}}}.}\n",
    "$$\n",
    "\n",
    "If we expand in terms of the standard normal distribution, that is, if we set\n",
    "\n",
    "$$\n",
    "{\\displaystyle \\phi (x)={\\frac {1}{\\sqrt {2\\pi }}}\\exp(-{\\tfrac {1}{2}}x^{2})}\n",
    "$$"
   ]
  }
 ],
 "metadata": {
  "kernelspec": {
   "display_name": "Python 3",
   "language": "python",
   "name": "python3"
  },
  "language_info": {
   "codemirror_mode": {
    "name": "ipython",
    "version": 3
   },
   "file_extension": ".py",
   "mimetype": "text/x-python",
   "name": "python",
   "nbconvert_exporter": "python",
   "pygments_lexer": "ipython3",
   "version": "3.6.5"
  }
 },
 "nbformat": 4,
 "nbformat_minor": 2
}
