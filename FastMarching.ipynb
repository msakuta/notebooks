{
 "cells": [
  {
   "cell_type": "code",
   "execution_count": 1,
   "metadata": {},
   "outputs": [],
   "source": [
    "#%matplotlib nbagg\n",
    "from mpl_toolkits.mplot3d import Axes3D\n",
    "import matplotlib.pyplot as plt\n",
    "import matplotlib.animation as animation\n",
    "import numpy as np\n",
    "from itertools import product, combinations\n",
    "from matplotlib.backends.backend_agg import FigureCanvasAgg as FigureCanvas\n",
    "from matplotlib import rc\n",
    "rc('animation', html='html5')\n",
    "\n",
    "from ipywidgets import widgets\n",
    "from ipywidgets.widgets import *\n",
    "from IPython.display import display"
   ]
  },
  {
   "cell_type": "code",
   "execution_count": 10,
   "metadata": {},
   "outputs": [],
   "source": [
    "im = plt.imread(\"sample.png\")[:,:,0] > 0.5"
   ]
  },
  {
   "cell_type": "code",
   "execution_count": 11,
   "metadata": {},
   "outputs": [],
   "source": [
    "start = (105,170)"
   ]
  },
  {
   "cell_type": "code",
   "execution_count": 12,
   "metadata": {},
   "outputs": [
    {
     "data": {
      "text/plain": [
       "[<matplotlib.lines.Line2D at 0x2702a3ad240>]"
      ]
     },
     "execution_count": 12,
     "metadata": {},
     "output_type": "execute_result"
    },
    {
     "data": {
      "image/png": "[encoded data removed]",
      "text/plain": [
       "<Figure size 432x288 with 1 Axes>"
      ]
     },
     "metadata": {},
     "output_type": "display_data"
    }
   ],
   "source": [
    "plt.imshow(im.T, cmap=plt.cm.gray)\n",
    "plt.plot(start[0], start[1], 'rx')"
   ]
  },
  {
   "cell_type": "code",
   "execution_count": 5,
   "metadata": {},
   "outputs": [],
   "source": [
    "neighbors = np.array([(-1,0), (0,-1), (1,0), (0,1)])\n",
    "\n",
    "def dijkstra(map, start, callback=None):\n",
    "    import copy\n",
    "    #map = map.T\n",
    "    cost = np.infty * np.ones(map.shape)\n",
    "    print('cost', cost.shape)\n",
    "    open_set = [start]\n",
    "    cost[start] = 0\n",
    "    count = 0\n",
    "    evals = 0\n",
    "    \n",
    "    def boundary(*pos):\n",
    "        return max(0, min(im.shape[0]-1, pos[0])), max(0, min(im.shape[1]-1, pos[1]))\n",
    "\n",
    "    while 0 < len(open_set):\n",
    "        best = np.inf\n",
    "        #print(\"starting search best: {} in {}\".format(best, (open_set)))\n",
    "        for n in open_set:\n",
    "            #print('csst {}: {}'.format(n, cost[n]))\n",
    "            if cost[n] < best:\n",
    "                best = cost[n]\n",
    "                node = n\n",
    "        open_set.remove(node)\n",
    "\n",
    "        for n in neighbors:\n",
    "            next_node = (node[0] + n[0], node[1] + n[1])\n",
    "            #print('next_node: ', next_node)\n",
    "            if (0 <= next_node[0] and next_node[0] < cost.shape[0] and\n",
    "                0 <= next_node[1] and next_node[1] < cost.shape[1] and\n",
    "                map[next_node] == 0 and\n",
    "                cost[next_node] == np.inf):\n",
    "\n",
    "                left = boundary(next_node[0] - 1, next_node[1])\n",
    "                right = boundary(next_node[0] + 1, next_node[1])\n",
    "                up = boundary(next_node[0], next_node[1] - 1)\n",
    "                down = boundary(next_node[0], next_node[1] + 1)\n",
    "                #print(\"ltrb: {}, {}, {}, {}\".format(left, up, right, down))\n",
    "                dx = min(cost[left], cost[right])\n",
    "                dy = min(cost[up], cost[down])\n",
    "\n",
    "                if False:\n",
    "                    nextDist = min(dx, dy) + 1\n",
    "                elif dx != np.inf and dy != np.inf:\n",
    "                    #print('land me')\n",
    "                    delta = 2. - (dx - dy) ** 2\n",
    "                    nextDist = (dx + dy + np.sqrt(delta)) / 2\n",
    "                elif dx != np.inf:\n",
    "                    #print('land me please')\n",
    "                    nextDist = dx + 1\n",
    "                elif dy != np.inf:\n",
    "                    nextDist = dy + 1\n",
    "                else:\n",
    "                    nextDist = 0\n",
    "                #print('next_node: {}, dist: {}, delta: {}'.format(next_node, nextDist, 0))\n",
    "\n",
    "                cost[next_node] = nextDist\n",
    "                open_set.append(next_node)\n",
    "                evals += 1\n",
    "\n",
    "        if callback is not None and count % 100 == 0:\n",
    "            cost_show = np.array(cost)\n",
    "            cost_show[cost_show == np.inf] = 0\n",
    "            callback(cost_show, open_set)\n",
    "            #print(\"calling {}: {},  m {}\".format(count, len(open_set), max([cost[n] for n in open_set])))\n",
    "        #if 100 < count:\n",
    "        #    break\n",
    "        count += 1\n",
    "    return cost, count"
   ]
  },
  {
   "cell_type": "code",
   "execution_count": 13,
   "metadata": {
    "scrolled": true
   },
   "outputs": [
    {
     "name": "stdout",
     "output_type": "stream",
     "text": [
      "cost (174, 218)\n",
      "9298\n",
      "Wall time: 249 ms\n"
     ]
    },
    {
     "data": {
      "image/png": "[encoded data removed]",
      "text/plain": [
       "<Figure size 432x288 with 1 Axes>"
      ]
     },
     "metadata": {},
     "output_type": "display_data"
    }
   ],
   "source": [
    "%%time\n",
    "cost_hist = []\n",
    "open_hist = []\n",
    "\n",
    "def callback(cost, open_set):\n",
    "    cost_hist.append(cost)\n",
    "    open_hist.append(np.array(open_set))\n",
    "\n",
    "imcost, count = dijkstra(im, start, callback)\n",
    "print(count)\n",
    "plt.imshow(imcost)"
   ]
  },
  {
   "cell_type": "code",
   "execution_count": 14,
   "metadata": {},
   "outputs": [
    {
     "data": {
      "image/png": "[encoded data removed]",
      "text/plain": [
       "<Figure size 432x288 with 1 Axes>"
      ]
     },
     "metadata": {},
     "output_type": "display_data"
    }
   ],
   "source": [
    "%matplotlib inline\n",
    "import sys\n",
    "\n",
    "# First set up the figure, the axis, and the plot element we want to animate\n",
    "fig, ax = plt.subplots()\n",
    "\n",
    "# initialization function: plot the background of each frame\n",
    "def init():\n",
    "    return ()\n",
    "\n",
    "# animation function. This is called sequentially\n",
    "def animate(i):\n",
    "    ax.clear()\n",
    "    im2 = np.stack([np.array(cost_hist[i], dtype=float),\n",
    "                    np.zeros(im.shape, dtype=float), np.zeros(im.shape, dtype=float)], axis=2)\n",
    "    #print(im2.shape)\n",
    "    im2[open_hist[i][:,0], open_hist[i][:,1], :] = np.max(cost_hist[i])\n",
    "    ax.imshow(im2 / np.max(im2), cmap=plt.cm.gray)\n",
    "    ax.axis('equal')\n",
    "    sys.stdout.write('.')\n",
    "    sys.stdout.flush()\n",
    "    return ()\n",
    "\n",
    "# call the animator. blit=True means only re-draw the parts that \n",
    "# have changed.\n",
    "anim = animation.FuncAnimation(fig, animate, init_func=init,\n",
    "                               frames=len(cost_hist), interval=20, blit=True)"
   ]
  },
  {
   "cell_type": "markdown",
   "metadata": {},
   "source": [
    "## Save to Gif (requires ImageMagick installed)"
   ]
  },
  {
   "cell_type": "code",
   "execution_count": 16,
   "metadata": {},
   "outputs": [
    {
     "name": "stderr",
     "output_type": "stream",
     "text": [
      "MovieWriter imagemagick unavailable.\n"
     ]
    },
    {
     "name": "stdout",
     "output_type": "stream",
     "text": [
      "............................................................................................."
     ]
    }
   ],
   "source": [
    "anim.save('dijkstra.gif', writer='imagemagick', fps=20)\n",
    "\n",
    "# Image(url='animation.gif')"
   ]
  },
  {
   "cell_type": "markdown",
   "metadata": {},
   "source": [
    "# Showing GIF\n",
    "\n",
    "![image](dijkstra.gif)\n"
   ]
  },
  {
   "cell_type": "markdown",
   "metadata": {},
   "source": [
    "## Save to MP4 (requires ffmpeg, which comes with ImageMagick installer on Windows)"
   ]
  },
  {
   "cell_type": "code",
   "execution_count": 15,
   "metadata": {},
   "outputs": [
    {
     "name": "stdout",
     "output_type": "stream",
     "text": [
      "............................................................................................."
     ]
    }
   ],
   "source": [
    "#mywriter = animation.FFMpegWriter(fps=30)\n",
    "#anim.save('dijkstra.flv', writer=mywriter)\n",
    "anim.save('dijkstra.mp4', writer='ffmpeg')"
   ]
  },
  {
   "cell_type": "markdown",
   "metadata": {},
   "source": [
    "# Showing mp4\n",
    "\n",
    "![movie](dijkstra.mp4)"
   ]
  }
 ],
 "metadata": {
  "kernelspec": {
   "display_name": "Python 3",
   "language": "python",
   "name": "python3"
  },
  "language_info": {
   "codemirror_mode": {
    "name": "ipython",
    "version": 3
   },
   "file_extension": ".py",
   "mimetype": "text/x-python",
   "name": "python",
   "nbconvert_exporter": "python",
   "pygments_lexer": "ipython3",
   "version": "3.6.5"
  }
 },
 "nbformat": 4,
 "nbformat_minor": 2
}
