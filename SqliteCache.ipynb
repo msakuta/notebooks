{
 "cells": [
  {
   "cell_type": "code",
   "execution_count": 1,
   "metadata": {},
   "outputs": [],
   "source": [
    "import numpy as np\n",
    "import matplotlib.pyplot as plt\n",
    "\n"
   ]
  },
  {
   "cell_type": "code",
   "execution_count": 10,
   "metadata": {},
   "outputs": [],
   "source": [
    "data = {\n",
    "    \"cache_query_time\": 51.0241459,\n",
    "    \"cache_thumbnail_time\": 12.0164338,\n",
    "    \"cache_insert_time\": 7.968843600000002,\n",
    "    \"cache_write_db_time\": 74.17961919999998,\n",
    "}"
   ]
  },
  {
   "cell_type": "code",
   "execution_count": 23,
   "metadata": {},
   "outputs": [],
   "source": [
    "data = {\n",
    "    \"cache_query_time\": 1.1514472000000004,\n",
    "    \"cache_thumbnail_time\": 13.771548799999993,\n",
    "    \"cache_insert_time\": 0.9545754000000002,\n",
    "    \"cache_write_db_time\": 93.34101929999996,\n",
    "}"
   ]
  },
  {
   "cell_type": "code",
   "execution_count": 19,
   "metadata": {},
   "outputs": [],
   "source": [
    "# Cacheless\n",
    "data = {\n",
    "    \"cache_query_time\": 0.063998,\n",
    "    \"cache_thumbnail_time\": 11.141378100000003,\n",
    "    \"cache_insert_time\": 0.0005572000000000001,\n",
    "    \"cache_write_db_time\": 0.0,\n",
    "}"
   ]
  },
  {
   "cell_type": "code",
   "execution_count": 21,
   "metadata": {},
   "outputs": [],
   "source": [
    "data = {\n",
    "    \"cache_query_time\": 0.058628400000000004,\n",
    "    \"cache_thumbnail_time\": 12.827564099999998,\n",
    "    \"cache_insert_time\": 0.0015154999999999997,\n",
    "    \"cache_write_db_time\": 0.18598699999999999,\n",
    "}"
   ]
  },
  {
   "cell_type": "code",
   "execution_count": 24,
   "metadata": {},
   "outputs": [
    {
     "data": {
      "image/png": "[encoded data removed]",
      "text/plain": [
       "<Figure size 576x360 with 1 Axes>"
      ]
     },
     "metadata": {
      "needs_background": "light"
     },
     "output_type": "display_data"
    }
   ],
   "source": [
    "plt.figure(figsize=(8,5))\n",
    "plt.bar([x for x in data.keys()], [y for y in data.values()])\n",
    "plt.grid()\n",
    "plt.ylabel(\"Time [s]\", fontsize=14)\n",
    "plt.title(\"Time taken for each operations in the server\", fontsize=18)\n",
    "plt.tight_layout()\n",
    "plt.savefig(\"rusphoto-prof.png\")"
   ]
  }
 ],
 "metadata": {
  "kernelspec": {
   "display_name": "Python 3",
   "language": "python",
   "name": "python3"
  },
  "language_info": {
   "codemirror_mode": {
    "name": "ipython",
    "version": 3
   },
   "file_extension": ".py",
   "mimetype": "text/x-python",
   "name": "python",
   "nbconvert_exporter": "python",
   "pygments_lexer": "ipython3",
   "version": "3.7.4"
  }
 },
 "nbformat": 4,
 "nbformat_minor": 2
}
