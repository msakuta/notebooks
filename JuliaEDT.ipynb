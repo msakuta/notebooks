{
 "cells": [
  {
   "cell_type": "markdown",
   "metadata": {},
   "source": [
    "# EDT-Julia\n",
    "\n",
    "EDT in Jualia language\n"
   ]
  },
  {
   "cell_type": "code",
   "execution_count": 10,
   "metadata": {},
   "outputs": [
    {
     "name": "stderr",
     "output_type": "stream",
     "text": [
      "\u001b[32m\u001b[1m   Resolving\u001b[22m\u001b[39m package versions...\n",
      "\u001b[32m\u001b[1m  No Changes\u001b[22m\u001b[39m to `C:\\Users\\masah\\.julia\\environments\\v1.7\\Project.toml`\n",
      "\u001b[32m\u001b[1m  No Changes\u001b[22m\u001b[39m to `C:\\Users\\masah\\.julia\\environments\\v1.7\\Manifest.toml`\n",
      "\u001b[32m\u001b[1m   Resolving\u001b[22m\u001b[39m package versions...\n",
      "\u001b[32m\u001b[1m  No Changes\u001b[22m\u001b[39m to `C:\\Users\\masah\\.julia\\environments\\v1.7\\Project.toml`\n",
      "\u001b[32m\u001b[1m  No Changes\u001b[22m\u001b[39m to `C:\\Users\\masah\\.julia\\environments\\v1.7\\Manifest.toml`\n"
     ]
    }
   ],
   "source": [
    "import Pkg\n",
    "Pkg.add(\"Images\")\n",
    "Pkg.add(\"Plots\")"
   ]
  },
  {
   "cell_type": "code",
   "execution_count": 11,
   "metadata": {},
   "outputs": [],
   "source": [
    "using Plots\n",
    "using Images"
   ]
  },
  {
   "cell_type": "code",
   "execution_count": 33,
   "metadata": {},
   "outputs": [
    {
     "data": {
      "text/plain": [
       "horizontal_edt (generic function with 2 methods)"
      ]
     },
     "execution_count": 33,
     "metadata": {},
     "output_type": "execute_result"
    }
   ],
   "source": [
    "function horizontal_edt(map)\n",
    "    max_val = max(size(map,1), size(map,2))\n",
    "    ret = (map .!= 0) * max_val\n",
    "\n",
    "    function scan(x, y, min_val)\n",
    "        f = ret[y,x]\n",
    "        next = min_val + 1.\n",
    "        v = min(f, next)\n",
    "#         println(x, \" \", y, \" \", v, \" \", sum(ret))\n",
    "        ret[y,x] = v\n",
    "        return v\n",
    "    end\n",
    "\n",
    "    for y = 1:size(map,1)\n",
    "        min_val = 0\n",
    "        for x = 1:size(map,2)\n",
    "            min_val = scan(x, y, min_val)\n",
    "        end\n",
    "        for x = size(map,2):-1:1\n",
    "            min_val = scan(x, y, min_val)\n",
    "        end\n",
    "    end\n",
    "    return ret\n",
    "end"
   ]
  },
  {
   "cell_type": "code",
   "execution_count": 13,
   "metadata": {},
   "outputs": [
    {
     "data": {
      "text/plain": [
       "edt (generic function with 1 method)"
      ]
     },
     "execution_count": 13,
     "metadata": {},
     "output_type": "execute_result"
    }
   ],
   "source": [
    "function edt(map)\n",
    "    horz_edt = horizontal_edt(map)\n",
    "    println(\"horz_edt: \", size(horz_edt))\n",
    "    ret = zeros(size(map))\n",
    "\n",
    "    function vertical_scan(x, y)\n",
    "        column = ((1:size(map,1)) .- y) .^ 2 .+ horz_edt[:,x] .^ 2\n",
    "        return minimum(column)\n",
    "    end\n",
    "\n",
    "    for x in 1:size(map,2)\n",
    "        for y in 1:size(map,1)\n",
    "            ret[y,x] = vertical_scan(x, y)\n",
    "        end\n",
    "    end\n",
    "    \n",
    "    return ret\n",
    "end"
   ]
  },
  {
   "cell_type": "code",
   "execution_count": null,
   "metadata": {},
   "outputs": [],
   "source": [
    "SIZE = 512\n",
    "x_ticks = range(-2, stop=2, length=SIZE)\n",
    "y_ticks = range(-2, stop=2, length=SIZE)\n",
    "X = [ j for i=x_ticks, j=y_ticks ]\n",
    "Y = [ i for i=x_ticks, j=y_ticks ]\n",
    "circle = convert(Array{Float64, 2}, X .^ 2 .+ Y .^ 2 .< 1.5 .^ 2)\n",
    "# result = horizontal_edt(circle)\n",
    "@time begin\n",
    "result = edt(circle)\n",
    "end\n",
    "heatmap(result)"
   ]
  },
  {
   "cell_type": "code",
   "execution_count": 21,
   "metadata": {},
   "outputs": [],
   "source": [
    "save(\"julia-edt.png\", colorview(Gray, map(clamp01nan, result / maximum(result))))"
   ]
  },
  {
   "cell_type": "code",
   "execution_count": 41,
   "metadata": {},
   "outputs": [
    {
     "data": {
      "text/plain": [
       "Matrix{Gray{N0f8}} (alias for Array{Gray{Normed{UInt8, 8}}, 2})"
      ]
     },
     "execution_count": 41,
     "metadata": {},
     "output_type": "execute_result"
    }
   ],
   "source": [
    "rust_logo = load(\"Rust_logo.png\")\n",
    "typeof(rust_logo)\n",
    "gray_rust_logo = Gray.(rust_logo)\n",
    "typeof(gray_rust_logo)"
   ]
  },
  {
   "cell_type": "code",
   "execution_count": null,
   "metadata": {},
   "outputs": [],
   "source": [
    "@time begin\n",
    "result = edt(.~gray_rust_logo)\n",
    "end\n",
    "heatmap(result)"
   ]
  }
 ],
 "metadata": {
  "kernelspec": {
   "display_name": "Julia 1.7.2",
   "language": "julia",
   "name": "julia-1.7"
  },
  "language_info": {
   "file_extension": ".jl",
   "mimetype": "application/julia",
   "name": "julia",
   "version": "1.7.2"
  }
 },
 "nbformat": 4,
 "nbformat_minor": 4
}
